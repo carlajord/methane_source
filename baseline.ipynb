{
 "cells": [
  {
   "attachments": {},
   "cell_type": "markdown",
   "metadata": {},
   "source": [
    "# BASELINE NOTEBOOK "
   ]
  },
  {
   "attachments": {},
   "cell_type": "markdown",
   "metadata": {},
   "source": [
    "## Metrics"
   ]
  },
  {
   "attachments": {},
   "cell_type": "markdown",
   "metadata": {},
   "source": [
    "the following metrics will be used for the model:\n",
    "\n",
    "`auc`= Approximates the AUC (Area under the curve) of the ROC or PR curves. (ROC / PR)\n",
    "\n",
    "`Precision` \n",
    "\n",
    "`Recall `\n",
    "\n",
    "`F1`"
   ]
  },
  {
   "attachments": {},
   "cell_type": "markdown",
   "metadata": {},
   "source": [
    "## general `Baseline` for data train"
   ]
  },
  {
   "cell_type": "code",
   "execution_count": 3,
   "metadata": {},
   "outputs": [
    {
     "name": "stderr",
     "output_type": "stream",
     "text": [
      "2023-05-25 00:34:28.158110: I tensorflow/core/platform/cpu_feature_guard.cc:193] This TensorFlow binary is optimized with oneAPI Deep Neural Network Library (oneDNN) to use the following CPU instructions in performance-critical operations:  AVX2 AVX512F AVX512_VNNI FMA\n",
      "To enable them in other operations, rebuild TensorFlow with the appropriate compiler flags.\n",
      "2023-05-25 00:34:28.445993: I tensorflow/core/util/util.cc:169] oneDNN custom operations are on. You may see slightly different numerical results due to floating-point round-off errors from different computation orders. To turn them off, set the environment variable `TF_ENABLE_ONEDNN_OPTS=0`.\n",
      "2023-05-25 00:34:30.412721: I tensorflow/c/logging.cc:34] Successfully opened dynamic library libdirectml.d6f03b303ac3c4f2eeb8ca631688c9757b361310.so\n",
      "2023-05-25 00:34:30.412889: I tensorflow/c/logging.cc:34] Successfully opened dynamic library libdxcore.so\n",
      "2023-05-25 00:34:30.428772: I tensorflow/c/logging.cc:34] Successfully opened dynamic library libd3d12.so\n",
      "2023-05-25 00:34:36.726801: I tensorflow/c/logging.cc:34] DirectML device enumeration: found 2 compatible adapters.\n"
     ]
    }
   ],
   "source": [
    "import os, folium, glob\n",
    "import pandas as pd\n",
    "import numpy as np\n",
    "import matplotlib.pyplot as plt\n",
    "import seaborn as sns\n",
    "import imageio.v3 as iio\n",
    "import geopandas as gpd\n",
    "from IPython.display import Image, display\n",
    "import tensorflow as tf\n",
    "from tensorflow.keras import layers, callbacks, backend, Model\n",
    "from sklearn.model_selection import train_test_split\n",
    "from sklearn.preprocessing import MultiLabelBinarizer\n",
    "from sklearn.metrics import accuracy_score, precision_recall_curve, recall_score, roc_auc_score, f1_score, precision_score\n",
    "from tensorflow.keras.applications import EfficientNetB0, DenseNet121\n",
    "from tensorflow.keras.layers import Input, Dense, Conv2D, Flatten\n",
    "from tensorflow.keras.models import Model\n",
    "from tensorflow.keras import layers\n",
    "import pickle"
   ]
  },
  {
   "cell_type": "code",
   "execution_count": 4,
   "metadata": {},
   "outputs": [],
   "source": [
    "labels= gpd.read_file('labels.geojson')\n",
    "labels_unique = labels[(labels.Type == 'Negative') | (labels.Type == 'CAFOs') | (labels.Type == 'WWTreatment')\n",
    "           | (labels.Type == 'Landfills') | (labels.Type == 'RefineriesAndTerminals')\n",
    "           | (labels.Type == 'ProcessingPlants') | (labels.Type == 'Mines')]"
   ]
  },
  {
   "cell_type": "code",
   "execution_count": 5,
   "metadata": {},
   "outputs": [
    {
     "data": {
      "text/plain": [
       "array(['CAFOs', 'Landfills', 'Mines', 'Negative', 'ProcessingPlants',\n",
       "       'RefineriesAndTerminals', 'WWTreatment'], dtype=object)"
      ]
     },
     "execution_count": 5,
     "metadata": {},
     "output_type": "execute_result"
    }
   ],
   "source": [
    "mlb = MultiLabelBinarizer()\n",
    "y = mlb.fit_transform(labels_unique.Type.values.reshape(labels_unique.Type.values.shape[0], 1))\n",
    "mlb.classes_"
   ]
  },
  {
   "cell_type": "code",
   "execution_count": 6,
   "metadata": {},
   "outputs": [],
   "source": [
    "y_train, y_test= train_test_split(y, train_size=0.1, stratify=y)\n",
    "def invert_ecoding(encoded_labels, categories):\n",
    "    categories = ['[unk]']+categories\n",
    "    return np.take(categories, np.argwhere(encoded_labels == 1.0)[:,1])\n",
    "y_tra_orig = np.argwhere(y_train == 1.0)[:,1]\n",
    "y_test_orig = np.argwhere(y_test == 1.0)[:,1]"
   ]
  },
  {
   "cell_type": "code",
   "execution_count": 7,
   "metadata": {},
   "outputs": [
    {
     "data": {
      "text/plain": [
       "array([3, 3, 0, ..., 3, 0, 3])"
      ]
     },
     "execution_count": 7,
     "metadata": {},
     "output_type": "execute_result"
    }
   ],
   "source": [
    "y_test_orig"
   ]
  },
  {
   "cell_type": "code",
   "execution_count": 8,
   "metadata": {},
   "outputs": [
    {
     "name": "stderr",
     "output_type": "stream",
     "text": [
      "/root/.pyenv/versions/3.8.12/envs/lewagon/lib/python3.8/site-packages/sklearn/metrics/_classification.py:1344: UndefinedMetricWarning: Precision is ill-defined and being set to 0.0 in labels with no predicted samples. Use `zero_division` parameter to control this behavior.\n",
      "  _warn_prf(average, modifier, msg_start, len(result))\n"
     ]
    }
   ],
   "source": [
    "# same probability for all the instances\n",
    "constant_probability = np.full_like(y_test, 1/7)\n",
    "\n",
    "y_pred_baseline = np.argmax(constant_probability, axis=1)\n",
    "\n",
    "# Calculate metrics\n",
    "accuracy = accuracy_score(np.argmax(y_test, axis=1), y_pred_baseline)\n",
    "precision = precision_score(np.argmax(y_test, axis=1), y_pred_baseline, average='weighted')\n",
    "recall = recall_score(np.argmax(y_test, axis=1), y_pred_baseline, average='weighted')\n",
    "f1 = f1_score(np.argmax(y_test, axis=1), y_pred_baseline, average='weighted')\n",
    "auc = roc_auc_score(y_test, constant_probability, average='weighted')\n"
   ]
  },
  {
   "cell_type": "code",
   "execution_count": 9,
   "metadata": {},
   "outputs": [],
   "source": [
    "results_df = pd.DataFrame({\n",
    "    'Metric': ['Accuracy', 'Precision', 'Recall', 'F1-score', 'AUC'],\n",
    "    'value': [accuracy, precision, recall, f1, auc]\n",
    "})"
   ]
  },
  {
   "cell_type": "code",
   "execution_count": 10,
   "metadata": {},
   "outputs": [
    {
     "data": {
      "text/html": [
       "<div>\n",
       "<style scoped>\n",
       "    .dataframe tbody tr th:only-of-type {\n",
       "        vertical-align: middle;\n",
       "    }\n",
       "\n",
       "    .dataframe tbody tr th {\n",
       "        vertical-align: top;\n",
       "    }\n",
       "\n",
       "    .dataframe thead th {\n",
       "        text-align: right;\n",
       "    }\n",
       "</style>\n",
       "<table border=\"1\" class=\"dataframe\">\n",
       "  <thead>\n",
       "    <tr style=\"text-align: right;\">\n",
       "      <th></th>\n",
       "      <th>Metric</th>\n",
       "      <th>value</th>\n",
       "    </tr>\n",
       "  </thead>\n",
       "  <tbody>\n",
       "    <tr>\n",
       "      <th>0</th>\n",
       "      <td>Accuracy</td>\n",
       "      <td>0.289995</td>\n",
       "    </tr>\n",
       "    <tr>\n",
       "      <th>1</th>\n",
       "      <td>Precision</td>\n",
       "      <td>0.084097</td>\n",
       "    </tr>\n",
       "    <tr>\n",
       "      <th>2</th>\n",
       "      <td>Recall</td>\n",
       "      <td>0.289995</td>\n",
       "    </tr>\n",
       "    <tr>\n",
       "      <th>3</th>\n",
       "      <td>F1-score</td>\n",
       "      <td>0.130384</td>\n",
       "    </tr>\n",
       "    <tr>\n",
       "      <th>4</th>\n",
       "      <td>AUC</td>\n",
       "      <td>0.500000</td>\n",
       "    </tr>\n",
       "  </tbody>\n",
       "</table>\n",
       "</div>"
      ],
      "text/plain": [
       "      Metric     value\n",
       "0   Accuracy  0.289995\n",
       "1  Precision  0.084097\n",
       "2     Recall  0.289995\n",
       "3   F1-score  0.130384\n",
       "4        AUC  0.500000"
      ]
     },
     "execution_count": 10,
     "metadata": {},
     "output_type": "execute_result"
    }
   ],
   "source": [
    "results_df"
   ]
  },
  {
   "attachments": {},
   "cell_type": "markdown",
   "metadata": {},
   "source": [
    "## `Baseline` CNN"
   ]
  },
  {
   "attachments": {},
   "cell_type": "markdown",
   "metadata": {},
   "source": [
    "### CATEGORICAL MODEL"
   ]
  },
  {
   "cell_type": "code",
   "execution_count": 12,
   "metadata": {},
   "outputs": [
    {
     "name": "stderr",
     "output_type": "stream",
     "text": [
      "/root/.pyenv/versions/3.8.12/envs/lewagon/lib/python3.8/site-packages/geopandas/geodataframe.py:1538: SettingWithCopyWarning: \n",
      "A value is trying to be set on a copy of a slice from a DataFrame.\n",
      "Try using .loc[row_indexer,col_indexer] = value instead\n",
      "\n",
      "See the caveats in the documentation: https://pandas.pydata.org/pandas-docs/stable/user_guide/indexing.html#returning-a-view-versus-a-copy\n",
      "  super().__setitem__(key, value)\n"
     ]
    }
   ],
   "source": [
    "##next commente cell should be uncommented once\n",
    "#labels_unique.Image_Folder=labels_unique.Image_Folder+\"/naip.png\"\n",
    "##separate the datasets in train and test\n",
    "train = int(labels_unique.shape[0] * 0.8)\n",
    "test = int(labels_unique.shape[0] * 0.01)\n",
    "labels_unique_train = labels_unique.iloc[:train, :]\n",
    "labels_unique_test = labels_unique.iloc[-test:, :]"
   ]
  },
  {
   "cell_type": "code",
   "execution_count": 29,
   "metadata": {},
   "outputs": [
    {
     "data": {
      "text/html": [
       "<div>\n",
       "<style scoped>\n",
       "    .dataframe tbody tr th:only-of-type {\n",
       "        vertical-align: middle;\n",
       "    }\n",
       "\n",
       "    .dataframe tbody tr th {\n",
       "        vertical-align: top;\n",
       "    }\n",
       "\n",
       "    .dataframe thead th {\n",
       "        text-align: right;\n",
       "    }\n",
       "</style>\n",
       "<table border=\"1\" class=\"dataframe\">\n",
       "  <thead>\n",
       "    <tr style=\"text-align: right;\">\n",
       "      <th></th>\n",
       "      <th>id</th>\n",
       "      <th>Latitude</th>\n",
       "      <th>Longitude</th>\n",
       "      <th>Type</th>\n",
       "      <th>Source</th>\n",
       "      <th>Image_Folder</th>\n",
       "      <th>geometry</th>\n",
       "    </tr>\n",
       "  </thead>\n",
       "  <tbody>\n",
       "    <tr>\n",
       "      <th>0</th>\n",
       "      <td>1</td>\n",
       "      <td>43.004434</td>\n",
       "      <td>-78.208900</td>\n",
       "      <td>Negative</td>\n",
       "      <td>Aeroplanes</td>\n",
       "      <td>train_images/43.00443446102501_-78.20890003579...</td>\n",
       "      <td>POLYGON ((-78.20567 43.00681, -78.20567 43.002...</td>\n",
       "    </tr>\n",
       "    <tr>\n",
       "      <th>1</th>\n",
       "      <td>6</td>\n",
       "      <td>42.033642</td>\n",
       "      <td>-97.719996</td>\n",
       "      <td>Negative</td>\n",
       "      <td>White Spec (Seadoo, pivot irrigation, etc.)</td>\n",
       "      <td>train_images/42.03364226519898_-97.71999550638...</td>\n",
       "      <td>POLYGON ((-97.71676 42.03605, -97.71676 42.031...</td>\n",
       "    </tr>\n",
       "    <tr>\n",
       "      <th>2</th>\n",
       "      <td>9</td>\n",
       "      <td>34.495000</td>\n",
       "      <td>-97.118000</td>\n",
       "      <td>WWTreatment</td>\n",
       "      <td>HydroWASTE</td>\n",
       "      <td>train_images/34.495_-97.118/naip.png</td>\n",
       "      <td>POLYGON ((-97.11477 34.49768, -97.11477 34.492...</td>\n",
       "    </tr>\n",
       "    <tr>\n",
       "      <th>3</th>\n",
       "      <td>12</td>\n",
       "      <td>38.381380</td>\n",
       "      <td>-75.401000</td>\n",
       "      <td>CAFOs</td>\n",
       "      <td>DataForCauseChallenge</td>\n",
       "      <td>train_images/38.38138_-75.401/naip.png</td>\n",
       "      <td>POLYGON ((-75.39777 38.38393, -75.39777 38.378...</td>\n",
       "    </tr>\n",
       "    <tr>\n",
       "      <th>4</th>\n",
       "      <td>17</td>\n",
       "      <td>45.647973</td>\n",
       "      <td>-84.469159</td>\n",
       "      <td>RefineriesAndTerminals</td>\n",
       "      <td>EIA-HIFLD</td>\n",
       "      <td>train_images/45.647973_-84.469159/naip.png</td>\n",
       "      <td>POLYGON ((-84.46593 45.65024, -84.46593 45.645...</td>\n",
       "    </tr>\n",
       "    <tr>\n",
       "      <th>...</th>\n",
       "      <td>...</td>\n",
       "      <td>...</td>\n",
       "      <td>...</td>\n",
       "      <td>...</td>\n",
       "      <td>...</td>\n",
       "      <td>...</td>\n",
       "      <td>...</td>\n",
       "    </tr>\n",
       "    <tr>\n",
       "      <th>14182</th>\n",
       "      <td>84941</td>\n",
       "      <td>35.852756</td>\n",
       "      <td>-101.538265</td>\n",
       "      <td>Negative</td>\n",
       "      <td>Windmills</td>\n",
       "      <td>train_images/35.85275555452138_-101.5382646083...</td>\n",
       "      <td>POLYGON ((-101.53503 35.85539, -101.53503 35.8...</td>\n",
       "    </tr>\n",
       "    <tr>\n",
       "      <th>14183</th>\n",
       "      <td>85008</td>\n",
       "      <td>47.186826</td>\n",
       "      <td>-122.436115</td>\n",
       "      <td>Negative</td>\n",
       "      <td>Roundabout</td>\n",
       "      <td>train_images/47.18682636726484_-122.4361145478...</td>\n",
       "      <td>POLYGON ((-122.43288 47.18903, -122.43288 47.1...</td>\n",
       "    </tr>\n",
       "    <tr>\n",
       "      <th>14184</th>\n",
       "      <td>85035</td>\n",
       "      <td>42.703517</td>\n",
       "      <td>-83.303270</td>\n",
       "      <td>Negative</td>\n",
       "      <td>Parking Lots</td>\n",
       "      <td>train_images/42.703517482995565_-83.3032698788...</td>\n",
       "      <td>POLYGON ((-83.30004 42.70590, -83.30004 42.701...</td>\n",
       "    </tr>\n",
       "    <tr>\n",
       "      <th>14185</th>\n",
       "      <td>85048</td>\n",
       "      <td>34.159700</td>\n",
       "      <td>-86.468760</td>\n",
       "      <td>CAFOs</td>\n",
       "      <td>DataForCauseChallenge</td>\n",
       "      <td>train_images/34.1597_-86.46876/naip.png</td>\n",
       "      <td>POLYGON ((-86.46553 34.16239, -86.46553 34.157...</td>\n",
       "    </tr>\n",
       "    <tr>\n",
       "      <th>14186</th>\n",
       "      <td>85052</td>\n",
       "      <td>41.113490</td>\n",
       "      <td>-118.842802</td>\n",
       "      <td>Negative</td>\n",
       "      <td>Neighborhoods 2</td>\n",
       "      <td>train_images/41.11348972038735_-118.8428021226...</td>\n",
       "      <td>POLYGON ((-118.83957 41.11594, -118.83957 41.1...</td>\n",
       "    </tr>\n",
       "  </tbody>\n",
       "</table>\n",
       "<p>14126 rows × 7 columns</p>\n",
       "</div>"
      ],
      "text/plain": [
       "          id   Latitude   Longitude                    Type  \\\n",
       "0          1  43.004434  -78.208900                Negative   \n",
       "1          6  42.033642  -97.719996                Negative   \n",
       "2          9  34.495000  -97.118000             WWTreatment   \n",
       "3         12  38.381380  -75.401000                   CAFOs   \n",
       "4         17  45.647973  -84.469159  RefineriesAndTerminals   \n",
       "...      ...        ...         ...                     ...   \n",
       "14182  84941  35.852756 -101.538265                Negative   \n",
       "14183  85008  47.186826 -122.436115                Negative   \n",
       "14184  85035  42.703517  -83.303270                Negative   \n",
       "14185  85048  34.159700  -86.468760                   CAFOs   \n",
       "14186  85052  41.113490 -118.842802                Negative   \n",
       "\n",
       "                                            Source  \\\n",
       "0                                       Aeroplanes   \n",
       "1      White Spec (Seadoo, pivot irrigation, etc.)   \n",
       "2                                       HydroWASTE   \n",
       "3                            DataForCauseChallenge   \n",
       "4                                        EIA-HIFLD   \n",
       "...                                            ...   \n",
       "14182                                    Windmills   \n",
       "14183                                  Roundabout    \n",
       "14184                                 Parking Lots   \n",
       "14185                        DataForCauseChallenge   \n",
       "14186                              Neighborhoods 2   \n",
       "\n",
       "                                            Image_Folder  \\\n",
       "0      train_images/43.00443446102501_-78.20890003579...   \n",
       "1      train_images/42.03364226519898_-97.71999550638...   \n",
       "2                   train_images/34.495_-97.118/naip.png   \n",
       "3                 train_images/38.38138_-75.401/naip.png   \n",
       "4             train_images/45.647973_-84.469159/naip.png   \n",
       "...                                                  ...   \n",
       "14182  train_images/35.85275555452138_-101.5382646083...   \n",
       "14183  train_images/47.18682636726484_-122.4361145478...   \n",
       "14184  train_images/42.703517482995565_-83.3032698788...   \n",
       "14185            train_images/34.1597_-86.46876/naip.png   \n",
       "14186  train_images/41.11348972038735_-118.8428021226...   \n",
       "\n",
       "                                                geometry  \n",
       "0      POLYGON ((-78.20567 43.00681, -78.20567 43.002...  \n",
       "1      POLYGON ((-97.71676 42.03605, -97.71676 42.031...  \n",
       "2      POLYGON ((-97.11477 34.49768, -97.11477 34.492...  \n",
       "3      POLYGON ((-75.39777 38.38393, -75.39777 38.378...  \n",
       "4      POLYGON ((-84.46593 45.65024, -84.46593 45.645...  \n",
       "...                                                  ...  \n",
       "14182  POLYGON ((-101.53503 35.85539, -101.53503 35.8...  \n",
       "14183  POLYGON ((-122.43288 47.18903, -122.43288 47.1...  \n",
       "14184  POLYGON ((-83.30004 42.70590, -83.30004 42.701...  \n",
       "14185  POLYGON ((-86.46553 34.16239, -86.46553 34.157...  \n",
       "14186  POLYGON ((-118.83957 41.11594, -118.83957 41.1...  \n",
       "\n",
       "[14126 rows x 7 columns]"
      ]
     },
     "execution_count": 29,
     "metadata": {},
     "output_type": "execute_result"
    }
   ],
   "source": [
    "labels_unique"
   ]
  },
  {
   "cell_type": "code",
   "execution_count": 14,
   "metadata": {},
   "outputs": [],
   "source": [
    "##input data \n",
    "image_size = (720, 720)\n",
    "batch_size = 64\n",
    "validation_split = 0.2\n",
    "test_split = 0.1\n",
    "\n",
    "##get images from path on train and test \n",
    "\n",
    "from keras.preprocessing import image\n",
    "dir_path=r\"/root/code/dvictoria2/methane_source/\"\n",
    "train_datagen=image.ImageDataGenerator(rescale=1./255, validation_split = validation_split)\n",
    "test_datagen =image.ImageDataGenerator(rescale=1./255)"
   ]
  },
  {
   "cell_type": "code",
   "execution_count": 15,
   "metadata": {},
   "outputs": [
    {
     "name": "stdout",
     "output_type": "stream",
     "text": [
      "Found 9040 validated image filenames belonging to 7 classes.\n",
      "Found 2260 validated image filenames belonging to 7 classes.\n",
      "Found 141 validated image filenames belonging to 7 classes.\n"
     ]
    }
   ],
   "source": [
    "##create generators for train_validation and test\n",
    "train_generator=train_datagen.flow_from_dataframe(\n",
    "    dataframe=labels_unique_train, directory=dir_path, \n",
    "    x_col=\"Image_Folder\", y_col=\"Type\", seed = 42,\n",
    "    class_mode=\"categorical\", target_size=(720,720), batch_size=batch_size , subset = \"training\", color_mode='rgb')\n",
    "validation_generator = train_datagen.flow_from_dataframe(dataframe=labels_unique_train, directory=dir_path, \n",
    "    x_col=\"Image_Folder\", y_col=\"Type\", seed = 42,\n",
    "    class_mode=\"categorical\", target_size=(720,720), batch_size=int(batch_size/2), subset = \"validation\", color_mode='rgb')\n",
    "test_generator = test_datagen.flow_from_dataframe(dataframe=labels_unique_test, directory=dir_path, \n",
    "    x_col=\"Image_Folder\", y_col=\"Type\", seed = 42,\n",
    "    class_mode=\"categorical\", target_size=(720,720), batch_size=141, color_mode='rgb')"
   ]
  },
  {
   "cell_type": "code",
   "execution_count": 16,
   "metadata": {},
   "outputs": [],
   "source": [
    "STEP_SIZE_TRAIN=train_generator.n//train_generator.batch_size\n",
    "STEP_SIZE_VALID=validation_generator.n//validation_generator.batch_size\n",
    "STEP_SIZE_TEST=test_generator.n//test_generator.batch_size"
   ]
  },
  {
   "cell_type": "code",
   "execution_count": 49,
   "metadata": {},
   "outputs": [],
   "source": [
    "##create build_model funtion\n",
    "def build_model():\n",
    "    inputs = layers.Input(shape=(720, 720, 3))\n",
    "    res= layers.Resizing(360,360, interpolation='bilinear',\n",
    "                         crop_to_aspect_ratio=False)(inputs)\n",
    "    cnn = layers.Conv2D(32, (3, 3), activation='relu')(res)\n",
    "    cnn2 = layers.MaxPooling2D((2, 2))(cnn)\n",
    "    cnn3 = layers.Conv2D(64, (3, 3), activation='relu')(cnn2)\n",
    "    cnn4 = layers.MaxPooling2D((2, 2))(cnn3)\n",
    "    \n",
    "    flatten = layers.Flatten()(cnn4)\n",
    "    dense1 = layers.Dense(16, activation='relu')(flatten)\n",
    "    out = layers.Dense(7, activation='softmax')(dense1)\n",
    "    \n",
    "    model = Model(inputs=inputs, outputs=out)\n",
    "    \n",
    "    model.compile(loss=\"categorical_crossentropy\", optimizer=\"adam\", metrics=[\n",
    "        tf.keras.metrics.AUC(name='auc'),\n",
    "        tf.keras.metrics.AUC(name='pr_auc', curve='PR'),\n",
    "        tf.keras.metrics.Precision(name='precision'),\n",
    "        tf.keras.metrics.Recall(name='recall'),\n",
    "        'accuracy'\n",
    "    ])\n",
    "    return model\n"
   ]
  },
  {
   "cell_type": "code",
   "execution_count": 50,
   "metadata": {},
   "outputs": [
    {
     "name": "stdout",
     "output_type": "stream",
     "text": [
      "Model: \"model_2\"\n",
      "_________________________________________________________________\n",
      " Layer (type)                Output Shape              Param #   \n",
      "=================================================================\n",
      " input_3 (InputLayer)        [(None, 720, 720, 3)]     0         \n",
      "                                                                 \n",
      " resizing_2 (Resizing)       (None, 360, 360, 3)       0         \n",
      "                                                                 \n",
      " conv2d_4 (Conv2D)           (None, 358, 358, 32)      896       \n",
      "                                                                 \n",
      " max_pooling2d_4 (MaxPooling  (None, 179, 179, 32)     0         \n",
      " 2D)                                                             \n",
      "                                                                 \n",
      " conv2d_5 (Conv2D)           (None, 177, 177, 64)      18496     \n",
      "                                                                 \n",
      " max_pooling2d_5 (MaxPooling  (None, 88, 88, 64)       0         \n",
      " 2D)                                                             \n",
      "                                                                 \n",
      " flatten_2 (Flatten)         (None, 495616)            0         \n",
      "                                                                 \n",
      " dense_4 (Dense)             (None, 16)                7929872   \n",
      "                                                                 \n",
      " dense_5 (Dense)             (None, 7)                 119       \n",
      "                                                                 \n",
      "=================================================================\n",
      "Total params: 7,949,383\n",
      "Trainable params: 7,949,383\n",
      "Non-trainable params: 0\n",
      "_________________________________________________________________\n"
     ]
    }
   ],
   "source": [
    "model=build_model()\n",
    "model.summary()"
   ]
  },
  {
   "cell_type": "code",
   "execution_count": 51,
   "metadata": {},
   "outputs": [
    {
     "name": "stderr",
     "output_type": "stream",
     "text": [
      "/tmp/ipykernel_10544/505452867.py:4: UserWarning: `Model.fit_generator` is deprecated and will be removed in a future version. Please use `Model.fit`, which supports generators.\n",
      "  history =model.fit_generator(generator=train_generator,\n"
     ]
    },
    {
     "name": "stdout",
     "output_type": "stream",
     "text": [
      "Epoch 1/10\n"
     ]
    },
    {
     "name": "stderr",
     "output_type": "stream",
     "text": [
      "2023-05-24 07:21:26.028125: I tensorflow/core/grappler/optimizers/custom_graph_optimizer_registry.cc:114] Plugin optimizer for device_type GPU is enabled.\n",
      "2023-05-24 07:21:26.120039: I tensorflow/core/common_runtime/pluggable_device/pluggable_device_factory.cc:306] Could not identify NUMA node of platform GPU ID 0, defaulting to 0. Your kernel may not have been built with NUMA support.\n",
      "2023-05-24 07:21:26.120078: I tensorflow/core/common_runtime/pluggable_device/pluggable_device_factory.cc:306] Could not identify NUMA node of platform GPU ID 1, defaulting to 0. Your kernel may not have been built with NUMA support.\n",
      "2023-05-24 07:21:26.120092: I tensorflow/core/common_runtime/pluggable_device/pluggable_device_factory.cc:272] Created TensorFlow device (/job:localhost/replica:0/task:0/device:GPU:0 with 51939 MB memory) -> physical PluggableDevice (device: 0, name: DML, pci bus id: <undefined>)\n",
      "2023-05-24 07:21:26.120102: I tensorflow/core/common_runtime/pluggable_device/pluggable_device_factory.cc:272] Created TensorFlow device (/job:localhost/replica:0/task:0/device:GPU:1 with 45099 MB memory) -> physical PluggableDevice (device: 1, name: DML, pci bus id: <undefined>)\n",
      "2023-05-24 07:21:26.121199: I tensorflow/core/common_runtime/pluggable_device/pluggable_device_factory.cc:306] Could not identify NUMA node of platform GPU ID 0, defaulting to 0. Your kernel may not have been built with NUMA support.\n",
      "2023-05-24 07:21:26.121224: I tensorflow/core/common_runtime/pluggable_device/pluggable_device_factory.cc:306] Could not identify NUMA node of platform GPU ID 1, defaulting to 0. Your kernel may not have been built with NUMA support.\n",
      "2023-05-24 07:21:26.121236: I tensorflow/core/common_runtime/pluggable_device/pluggable_device_factory.cc:272] Created TensorFlow device (/job:localhost/replica:0/task:0/device:GPU:0 with 51939 MB memory) -> physical PluggableDevice (device: 0, name: DML, pci bus id: <undefined>)\n",
      "2023-05-24 07:21:26.121245: I tensorflow/core/common_runtime/pluggable_device/pluggable_device_factory.cc:272] Created TensorFlow device (/job:localhost/replica:0/task:0/device:GPU:1 with 45099 MB memory) -> physical PluggableDevice (device: 1, name: DML, pci bus id: <undefined>)\n",
      "2023-05-24 07:21:26.121969: I tensorflow/core/common_runtime/pluggable_device/pluggable_device_factory.cc:306] Could not identify NUMA node of platform GPU ID 0, defaulting to 0. Your kernel may not have been built with NUMA support.\n",
      "2023-05-24 07:21:26.121992: I tensorflow/core/common_runtime/pluggable_device/pluggable_device_factory.cc:306] Could not identify NUMA node of platform GPU ID 1, defaulting to 0. Your kernel may not have been built with NUMA support.\n",
      "2023-05-24 07:21:26.122004: I tensorflow/core/common_runtime/pluggable_device/pluggable_device_factory.cc:272] Created TensorFlow device (/job:localhost/replica:0/task:0/device:GPU:0 with 51939 MB memory) -> physical PluggableDevice (device: 0, name: DML, pci bus id: <undefined>)\n",
      "2023-05-24 07:21:26.122011: I tensorflow/core/common_runtime/pluggable_device/pluggable_device_factory.cc:272] Created TensorFlow device (/job:localhost/replica:0/task:0/device:GPU:1 with 45099 MB memory) -> physical PluggableDevice (device: 1, name: DML, pci bus id: <undefined>)\n",
      "2023-05-24 07:21:26.122827: I tensorflow/core/common_runtime/pluggable_device/pluggable_device_factory.cc:306] Could not identify NUMA node of platform GPU ID 0, defaulting to 0. Your kernel may not have been built with NUMA support.\n",
      "2023-05-24 07:21:26.122851: I tensorflow/core/common_runtime/pluggable_device/pluggable_device_factory.cc:306] Could not identify NUMA node of platform GPU ID 1, defaulting to 0. Your kernel may not have been built with NUMA support.\n",
      "2023-05-24 07:21:26.122863: I tensorflow/core/common_runtime/pluggable_device/pluggable_device_factory.cc:272] Created TensorFlow device (/job:localhost/replica:0/task:0/device:GPU:0 with 51939 MB memory) -> physical PluggableDevice (device: 0, name: DML, pci bus id: <undefined>)\n",
      "2023-05-24 07:21:26.122870: I tensorflow/core/common_runtime/pluggable_device/pluggable_device_factory.cc:272] Created TensorFlow device (/job:localhost/replica:0/task:0/device:GPU:1 with 45099 MB memory) -> physical PluggableDevice (device: 1, name: DML, pci bus id: <undefined>)\n",
      "2023-05-24 07:21:26.124037: I tensorflow/core/common_runtime/pluggable_device/pluggable_device_factory.cc:306] Could not identify NUMA node of platform GPU ID 0, defaulting to 0. Your kernel may not have been built with NUMA support.\n",
      "2023-05-24 07:21:26.124068: I tensorflow/core/common_runtime/pluggable_device/pluggable_device_factory.cc:306] Could not identify NUMA node of platform GPU ID 1, defaulting to 0. Your kernel may not have been built with NUMA support.\n",
      "2023-05-24 07:21:26.124083: I tensorflow/core/common_runtime/pluggable_device/pluggable_device_factory.cc:272] Created TensorFlow device (/job:localhost/replica:0/task:0/device:GPU:0 with 51939 MB memory) -> physical PluggableDevice (device: 0, name: DML, pci bus id: <undefined>)\n",
      "2023-05-24 07:21:26.124093: I tensorflow/core/common_runtime/pluggable_device/pluggable_device_factory.cc:272] Created TensorFlow device (/job:localhost/replica:0/task:0/device:GPU:1 with 45099 MB memory) -> physical PluggableDevice (device: 1, name: DML, pci bus id: <undefined>)\n",
      "2023-05-24 07:21:26.124831: I tensorflow/core/common_runtime/pluggable_device/pluggable_device_factory.cc:306] Could not identify NUMA node of platform GPU ID 0, defaulting to 0. Your kernel may not have been built with NUMA support.\n",
      "2023-05-24 07:21:26.124859: I tensorflow/core/common_runtime/pluggable_device/pluggable_device_factory.cc:306] Could not identify NUMA node of platform GPU ID 1, defaulting to 0. Your kernel may not have been built with NUMA support.\n",
      "2023-05-24 07:21:26.124876: I tensorflow/core/common_runtime/pluggable_device/pluggable_device_factory.cc:272] Created TensorFlow device (/job:localhost/replica:0/task:0/device:GPU:0 with 51939 MB memory) -> physical PluggableDevice (device: 0, name: DML, pci bus id: <undefined>)\n",
      "2023-05-24 07:21:26.124889: I tensorflow/core/common_runtime/pluggable_device/pluggable_device_factory.cc:272] Created TensorFlow device (/job:localhost/replica:0/task:0/device:GPU:1 with 45099 MB memory) -> physical PluggableDevice (device: 1, name: DML, pci bus id: <undefined>)\n"
     ]
    },
    {
     "name": "stdout",
     "output_type": "stream",
     "text": [
      "141/141 [==============================] - ETA: 0s - loss: 1.7370 - auc: 0.8162 - pr_auc: 0.4393 - precision: 0.6119 - recall: 0.1800 - accuracy: 0.4508"
     ]
    },
    {
     "name": "stderr",
     "output_type": "stream",
     "text": [
      "2023-05-24 07:23:31.378643: I tensorflow/core/grappler/optimizers/custom_graph_optimizer_registry.cc:114] Plugin optimizer for device_type GPU is enabled.\n",
      "2023-05-24 07:23:31.445828: I tensorflow/core/common_runtime/pluggable_device/pluggable_device_factory.cc:306] Could not identify NUMA node of platform GPU ID 0, defaulting to 0. Your kernel may not have been built with NUMA support.\n",
      "2023-05-24 07:23:31.445873: I tensorflow/core/common_runtime/pluggable_device/pluggable_device_factory.cc:306] Could not identify NUMA node of platform GPU ID 1, defaulting to 0. Your kernel may not have been built with NUMA support.\n",
      "2023-05-24 07:23:31.445901: I tensorflow/core/common_runtime/pluggable_device/pluggable_device_factory.cc:272] Created TensorFlow device (/job:localhost/replica:0/task:0/device:GPU:0 with 51939 MB memory) -> physical PluggableDevice (device: 0, name: DML, pci bus id: <undefined>)\n",
      "2023-05-24 07:23:31.445910: I tensorflow/core/common_runtime/pluggable_device/pluggable_device_factory.cc:272] Created TensorFlow device (/job:localhost/replica:0/task:0/device:GPU:1 with 45099 MB memory) -> physical PluggableDevice (device: 1, name: DML, pci bus id: <undefined>)\n",
      "2023-05-24 07:23:31.446879: I tensorflow/core/common_runtime/pluggable_device/pluggable_device_factory.cc:306] Could not identify NUMA node of platform GPU ID 0, defaulting to 0. Your kernel may not have been built with NUMA support.\n",
      "2023-05-24 07:23:31.446907: I tensorflow/core/common_runtime/pluggable_device/pluggable_device_factory.cc:306] Could not identify NUMA node of platform GPU ID 1, defaulting to 0. Your kernel may not have been built with NUMA support.\n",
      "2023-05-24 07:23:31.446920: I tensorflow/core/common_runtime/pluggable_device/pluggable_device_factory.cc:272] Created TensorFlow device (/job:localhost/replica:0/task:0/device:GPU:0 with 51939 MB memory) -> physical PluggableDevice (device: 0, name: DML, pci bus id: <undefined>)\n",
      "2023-05-24 07:23:31.446929: I tensorflow/core/common_runtime/pluggable_device/pluggable_device_factory.cc:272] Created TensorFlow device (/job:localhost/replica:0/task:0/device:GPU:1 with 45099 MB memory) -> physical PluggableDevice (device: 1, name: DML, pci bus id: <undefined>)\n",
      "2023-05-24 07:23:31.447461: I tensorflow/core/common_runtime/pluggable_device/pluggable_device_factory.cc:306] Could not identify NUMA node of platform GPU ID 0, defaulting to 0. Your kernel may not have been built with NUMA support.\n",
      "2023-05-24 07:23:31.447480: I tensorflow/core/common_runtime/pluggable_device/pluggable_device_factory.cc:306] Could not identify NUMA node of platform GPU ID 1, defaulting to 0. Your kernel may not have been built with NUMA support.\n",
      "2023-05-24 07:23:31.447489: I tensorflow/core/common_runtime/pluggable_device/pluggable_device_factory.cc:272] Created TensorFlow device (/job:localhost/replica:0/task:0/device:GPU:0 with 51939 MB memory) -> physical PluggableDevice (device: 0, name: DML, pci bus id: <undefined>)\n",
      "2023-05-24 07:23:31.447496: I tensorflow/core/common_runtime/pluggable_device/pluggable_device_factory.cc:272] Created TensorFlow device (/job:localhost/replica:0/task:0/device:GPU:1 with 45099 MB memory) -> physical PluggableDevice (device: 1, name: DML, pci bus id: <undefined>)\n",
      "2023-05-24 07:23:31.448095: I tensorflow/core/common_runtime/pluggable_device/pluggable_device_factory.cc:306] Could not identify NUMA node of platform GPU ID 0, defaulting to 0. Your kernel may not have been built with NUMA support.\n",
      "2023-05-24 07:23:31.448116: I tensorflow/core/common_runtime/pluggable_device/pluggable_device_factory.cc:306] Could not identify NUMA node of platform GPU ID 1, defaulting to 0. Your kernel may not have been built with NUMA support.\n",
      "2023-05-24 07:23:31.448125: I tensorflow/core/common_runtime/pluggable_device/pluggable_device_factory.cc:272] Created TensorFlow device (/job:localhost/replica:0/task:0/device:GPU:0 with 51939 MB memory) -> physical PluggableDevice (device: 0, name: DML, pci bus id: <undefined>)\n",
      "2023-05-24 07:23:31.448131: I tensorflow/core/common_runtime/pluggable_device/pluggable_device_factory.cc:272] Created TensorFlow device (/job:localhost/replica:0/task:0/device:GPU:1 with 45099 MB memory) -> physical PluggableDevice (device: 1, name: DML, pci bus id: <undefined>)\n",
      "2023-05-24 07:23:31.448848: I tensorflow/core/common_runtime/pluggable_device/pluggable_device_factory.cc:306] Could not identify NUMA node of platform GPU ID 0, defaulting to 0. Your kernel may not have been built with NUMA support.\n",
      "2023-05-24 07:23:31.448867: I tensorflow/core/common_runtime/pluggable_device/pluggable_device_factory.cc:306] Could not identify NUMA node of platform GPU ID 1, defaulting to 0. Your kernel may not have been built with NUMA support.\n",
      "2023-05-24 07:23:31.448876: I tensorflow/core/common_runtime/pluggable_device/pluggable_device_factory.cc:272] Created TensorFlow device (/job:localhost/replica:0/task:0/device:GPU:0 with 51939 MB memory) -> physical PluggableDevice (device: 0, name: DML, pci bus id: <undefined>)\n",
      "2023-05-24 07:23:31.448882: I tensorflow/core/common_runtime/pluggable_device/pluggable_device_factory.cc:272] Created TensorFlow device (/job:localhost/replica:0/task:0/device:GPU:1 with 45099 MB memory) -> physical PluggableDevice (device: 1, name: DML, pci bus id: <undefined>)\n",
      "2023-05-24 07:23:31.449493: I tensorflow/core/common_runtime/pluggable_device/pluggable_device_factory.cc:306] Could not identify NUMA node of platform GPU ID 0, defaulting to 0. Your kernel may not have been built with NUMA support.\n",
      "2023-05-24 07:23:31.449512: I tensorflow/core/common_runtime/pluggable_device/pluggable_device_factory.cc:306] Could not identify NUMA node of platform GPU ID 1, defaulting to 0. Your kernel may not have been built with NUMA support.\n",
      "2023-05-24 07:23:31.449521: I tensorflow/core/common_runtime/pluggable_device/pluggable_device_factory.cc:272] Created TensorFlow device (/job:localhost/replica:0/task:0/device:GPU:0 with 51939 MB memory) -> physical PluggableDevice (device: 0, name: DML, pci bus id: <undefined>)\n",
      "2023-05-24 07:23:31.449527: I tensorflow/core/common_runtime/pluggable_device/pluggable_device_factory.cc:272] Created TensorFlow device (/job:localhost/replica:0/task:0/device:GPU:1 with 45099 MB memory) -> physical PluggableDevice (device: 1, name: DML, pci bus id: <undefined>)\n"
     ]
    },
    {
     "name": "stdout",
     "output_type": "stream",
     "text": [
      "\n",
      "Epoch 1: loss improved from inf to 1.73701, saving model to methane_m1.hdf5\n",
      "141/141 [==============================] - 157s 1s/step - loss: 1.7370 - auc: 0.8162 - pr_auc: 0.4393 - precision: 0.6119 - recall: 0.1800 - accuracy: 0.4508 - val_loss: 1.1941 - val_auc: 0.8854 - val_pr_auc: 0.6381 - val_precision: 0.8591 - val_recall: 0.2777 - val_accuracy: 0.5455 - lr: 0.0010\n",
      "Epoch 2/10\n",
      "141/141 [==============================] - ETA: 0s - loss: 1.1256 - auc: 0.8930 - pr_auc: 0.6641 - precision: 0.7658 - recall: 0.3919 - accuracy: 0.5869\n",
      "Epoch 2: loss improved from 1.73701 to 1.12558, saving model to methane_m1.hdf5\n",
      "141/141 [==============================] - 148s 1s/step - loss: 1.1256 - auc: 0.8930 - pr_auc: 0.6641 - precision: 0.7658 - recall: 0.3919 - accuracy: 0.5869 - val_loss: 1.1069 - val_auc: 0.8974 - val_pr_auc: 0.6674 - val_precision: 0.7771 - val_recall: 0.3643 - val_accuracy: 0.5710 - lr: 0.0010\n",
      "Epoch 3/10\n",
      "141/141 [==============================] - ETA: 0s - loss: 1.0108 - auc: 0.9141 - pr_auc: 0.7242 - precision: 0.7989 - recall: 0.4728 - accuracy: 0.6441\n",
      "Epoch 3: loss improved from 1.12558 to 1.01078, saving model to methane_m1.hdf5\n",
      "141/141 [==============================] - 147s 1s/step - loss: 1.0108 - auc: 0.9141 - pr_auc: 0.7242 - precision: 0.7989 - recall: 0.4728 - accuracy: 0.6441 - val_loss: 1.0994 - val_auc: 0.8997 - val_pr_auc: 0.6832 - val_precision: 0.7112 - val_recall: 0.4804 - val_accuracy: 0.5969 - lr: 0.0010\n",
      "Epoch 4/10\n",
      "141/141 [==============================] - ETA: 0s - loss: 0.8551 - auc: 0.9386 - pr_auc: 0.7940 - precision: 0.8353 - recall: 0.5787 - accuracy: 0.7142\n",
      "Epoch 4: loss improved from 1.01078 to 0.85510, saving model to methane_m1.hdf5\n",
      "141/141 [==============================] - 147s 1s/step - loss: 0.8551 - auc: 0.9386 - pr_auc: 0.7940 - precision: 0.8353 - recall: 0.5787 - accuracy: 0.7142 - val_loss: 1.1194 - val_auc: 0.8989 - val_pr_auc: 0.6728 - val_precision: 0.6777 - val_recall: 0.4955 - val_accuracy: 0.5830 - lr: 0.0010\n",
      "Epoch 5/10\n",
      "141/141 [==============================] - ETA: 0s - loss: 0.6393 - auc: 0.9656 - pr_auc: 0.8782 - precision: 0.8857 - recall: 0.7029 - accuracy: 0.7969\n",
      "Epoch 5: loss improved from 0.85510 to 0.63930, saving model to methane_m1.hdf5\n",
      "141/141 [==============================] - 150s 1s/step - loss: 0.6393 - auc: 0.9656 - pr_auc: 0.8782 - precision: 0.8857 - recall: 0.7029 - accuracy: 0.7969 - val_loss: 1.2339 - val_auc: 0.8901 - val_pr_auc: 0.6645 - val_precision: 0.6564 - val_recall: 0.5246 - val_accuracy: 0.5915 - lr: 0.0010\n",
      "Epoch 6/10\n",
      "141/141 [==============================] - ETA: 0s - loss: 0.4265 - auc: 0.9847 - pr_auc: 0.9394 - precision: 0.9270 - recall: 0.8190 - accuracy: 0.8617\n",
      "Epoch 6: loss improved from 0.63930 to 0.42651, saving model to methane_m1.hdf5\n",
      "141/141 [==============================] - 153s 1s/step - loss: 0.4265 - auc: 0.9847 - pr_auc: 0.9394 - precision: 0.9270 - recall: 0.8190 - accuracy: 0.8617 - val_loss: 1.3752 - val_auc: 0.8735 - val_pr_auc: 0.6369 - val_precision: 0.6443 - val_recall: 0.5143 - val_accuracy: 0.5826 - lr: 0.0010\n",
      "Epoch 7/10\n",
      "141/141 [==============================] - ETA: 0s - loss: 0.2591 - auc: 0.9947 - pr_auc: 0.9773 - precision: 0.9601 - recall: 0.8957 - accuracy: 0.9130\n",
      "Epoch 7: loss improved from 0.42651 to 0.25909, saving model to methane_m1.hdf5\n",
      "141/141 [==============================] - 146s 1s/step - loss: 0.2591 - auc: 0.9947 - pr_auc: 0.9773 - precision: 0.9601 - recall: 0.8957 - accuracy: 0.9130 - val_loss: 1.4857 - val_auc: 0.8800 - val_pr_auc: 0.6521 - val_precision: 0.6259 - val_recall: 0.5571 - val_accuracy: 0.5960 - lr: 1.0000e-04\n",
      "Epoch 8/10\n",
      "141/141 [==============================] - ETA: 0s - loss: 0.2306 - auc: 0.9957 - pr_auc: 0.9813 - precision: 0.9629 - recall: 0.9033 - accuracy: 0.9189\n",
      "Epoch 8: loss improved from 0.25909 to 0.23059, saving model to methane_m1.hdf5\n",
      "141/141 [==============================] - 148s 1s/step - loss: 0.2306 - auc: 0.9957 - pr_auc: 0.9813 - precision: 0.9629 - recall: 0.9033 - accuracy: 0.9189 - val_loss: 1.5725 - val_auc: 0.8736 - val_pr_auc: 0.6412 - val_precision: 0.6182 - val_recall: 0.5509 - val_accuracy: 0.5857 - lr: 1.0000e-04\n"
     ]
    }
   ],
   "source": [
    "cb = [callbacks.EarlyStopping(patience=5), callbacks.ReduceLROnPlateau(patience=3),callbacks.ModelCheckpoint('methane_m1.hdf5', monitor='loss',verbose=1, save_best_only=True)]\n",
    "epochs = 20\n",
    "# fits the model on batches with real-time data augmentation:\n",
    "history =model.fit_generator(generator=train_generator,\n",
    "                    steps_per_epoch=STEP_SIZE_TRAIN,\n",
    "                    validation_data=validation_generator,\n",
    "                    validation_steps=STEP_SIZE_VALID,\n",
    "                    epochs=10, callbacks = cb)\n",
    "\n"
   ]
  },
  {
   "cell_type": "code",
   "execution_count": 53,
   "metadata": {},
   "outputs": [
    {
     "name": "stderr",
     "output_type": "stream",
     "text": [
      "WARNING:absl:Found untraced functions such as _jit_compiled_convolution_op, _jit_compiled_convolution_op while saving (showing 2 of 2). These functions will not be directly callable after loading.\n"
     ]
    },
    {
     "name": "stdout",
     "output_type": "stream",
     "text": [
      "INFO:tensorflow:Assets written to: ram://22c34352-e666-433f-bc9b-ccc548c9a303/assets\n"
     ]
    },
    {
     "name": "stderr",
     "output_type": "stream",
     "text": [
      "INFO:tensorflow:Assets written to: ram://22c34352-e666-433f-bc9b-ccc548c9a303/assets\n"
     ]
    }
   ],
   "source": [
    "model_name = \"model1.pkl\"\n",
    "with open(model_name, 'wb') as archivo:\n",
    "    pickle.dump(model, archivo)"
   ]
  },
  {
   "cell_type": "code",
   "execution_count": 18,
   "metadata": {},
   "outputs": [],
   "source": [
    "import matplotlib.pyplot as plt\n",
    "\n",
    "def plot_metric(metric_name, train_values, val_values, title):\n",
    "    epochs = range(1, len(train_values) + 1)\n",
    "    plt.plot(epochs, train_values, 'b', label='Train')\n",
    "    plt.plot(epochs, val_values, 'r', label='Validation')\n",
    "    plt.title(title)\n",
    "    plt.xlabel('Epochs')\n",
    "    plt.ylabel(metric_name)\n",
    "    plt.legend()\n",
    "    plt.show()\n",
    "\n",
    "def plot_metrics(history):\n",
    "    # metrics\n",
    "    plot_metric('AUC', history.history['auc'], history.history['val_auc'], 'AUC - Training and Validation')\n",
    "    plot_metric('Precision', history.history['precision'], history.history['val_precision'], 'Precision - Training and Validation')\n",
    "    plot_metric('Recall', history.history['recall'], history.history['val_recall'], 'Recall - Training and Validation')\n",
    "    \n",
    "    # loss\n",
    "    plot_metric('Loss', history.history['loss'], history.history['val_loss'], 'Loss - Training and Validation')\n",
    "\n",
    "\n"
   ]
  },
  {
   "cell_type": "code",
   "execution_count": null,
   "metadata": {},
   "outputs": [],
   "source": [
    "plot_metrics(history)\n"
   ]
  },
  {
   "cell_type": "code",
   "execution_count": 56,
   "metadata": {},
   "outputs": [
    {
     "name": "stdout",
     "output_type": "stream",
     "text": [
      "44/44 [==============================] - 38s 858ms/step - loss: 1.5775 - auc: 0.8714 - pr_auc: 0.6649 - precision: 0.6732 - recall: 0.5941 - accuracy: 0.6392\n"
     ]
    }
   ],
   "source": [
    "# evaluate the test set\n",
    "loss, auc, pr_auc, precision, recall, accuracy =model.evaluate(test_generator, steps=STEP_SIZE_TEST)"
   ]
  },
  {
   "cell_type": "code",
   "execution_count": 57,
   "metadata": {},
   "outputs": [],
   "source": [
    "resu= pd.DataFrame({'metrics': ['loss', 'auc', 'pr_auc',' precision', 'recall', 'accuracy'],\n",
    "                    'value': [loss, auc, pr_auc, precision, recall, accuracy]})"
   ]
  },
  {
   "attachments": {},
   "cell_type": "markdown",
   "metadata": {},
   "source": [
    "#### OVERALL RESULTS FOR CATEGORICAL MODEL"
   ]
  },
  {
   "cell_type": "code",
   "execution_count": 58,
   "metadata": {},
   "outputs": [
    {
     "data": {
      "text/html": [
       "<div>\n",
       "<style scoped>\n",
       "    .dataframe tbody tr th:only-of-type {\n",
       "        vertical-align: middle;\n",
       "    }\n",
       "\n",
       "    .dataframe tbody tr th {\n",
       "        vertical-align: top;\n",
       "    }\n",
       "\n",
       "    .dataframe thead th {\n",
       "        text-align: right;\n",
       "    }\n",
       "</style>\n",
       "<table border=\"1\" class=\"dataframe\">\n",
       "  <thead>\n",
       "    <tr style=\"text-align: right;\">\n",
       "      <th></th>\n",
       "      <th>metrics</th>\n",
       "      <th>value</th>\n",
       "    </tr>\n",
       "  </thead>\n",
       "  <tbody>\n",
       "    <tr>\n",
       "      <th>0</th>\n",
       "      <td>loss</td>\n",
       "      <td>1.577510</td>\n",
       "    </tr>\n",
       "    <tr>\n",
       "      <th>1</th>\n",
       "      <td>auc</td>\n",
       "      <td>0.871361</td>\n",
       "    </tr>\n",
       "    <tr>\n",
       "      <th>2</th>\n",
       "      <td>pr_auc</td>\n",
       "      <td>0.664941</td>\n",
       "    </tr>\n",
       "    <tr>\n",
       "      <th>3</th>\n",
       "      <td>precision</td>\n",
       "      <td>0.673239</td>\n",
       "    </tr>\n",
       "    <tr>\n",
       "      <th>4</th>\n",
       "      <td>recall</td>\n",
       "      <td>0.594105</td>\n",
       "    </tr>\n",
       "    <tr>\n",
       "      <th>5</th>\n",
       "      <td>accuracy</td>\n",
       "      <td>0.639205</td>\n",
       "    </tr>\n",
       "  </tbody>\n",
       "</table>\n",
       "</div>"
      ],
      "text/plain": [
       "      metrics     value\n",
       "0        loss  1.577510\n",
       "1         auc  0.871361\n",
       "2      pr_auc  0.664941\n",
       "3   precision  0.673239\n",
       "4      recall  0.594105\n",
       "5    accuracy  0.639205"
      ]
     },
     "execution_count": 58,
     "metadata": {},
     "output_type": "execute_result"
    }
   ],
   "source": [
    "resu"
   ]
  },
  {
   "attachments": {},
   "cell_type": "markdown",
   "metadata": {},
   "source": [
    "### BINARY MODEL "
   ]
  },
  {
   "cell_type": "code",
   "execution_count": 59,
   "metadata": {},
   "outputs": [],
   "source": [
    "def build_model2():\n",
    "    inputs = layers.Input(shape=(720, 720, 3))\n",
    "    res= layers.Resizing(360,360, interpolation='bilinear',\n",
    "                         crop_to_aspect_ratio=False)(inputs)\n",
    "    cnn = layers.Conv2D(32, (3, 3), activation='relu')(res)\n",
    "    cnn2 = layers.MaxPooling2D((2, 2))(cnn)\n",
    "    cnn3 = layers.Conv2D(64, (3, 3), activation='relu')(cnn2)\n",
    "    cnn4 = layers.MaxPooling2D((2, 2))(cnn3)\n",
    "    \n",
    "    flatten = layers.Flatten()(cnn4)\n",
    "    dense1 = layers.Dense(16, activation='relu')(flatten)\n",
    "    out = layers.Dense(7, activation='sigmoid')(dense1)\n",
    "    \n",
    "    model = Model(inputs=inputs, outputs=out)\n",
    "    \n",
    "    model.compile(loss=\"binary_crossentropy\", optimizer=\"adam\", metrics=[\n",
    "        tf.keras.metrics.AUC(name='auc'),\n",
    "        tf.keras.metrics.AUC(name='pr_auc', curve='PR'),\n",
    "        tf.keras.metrics.Precision(name='precision'),\n",
    "        tf.keras.metrics.Recall(name='recall'),\n",
    "        'accuracy'\n",
    "    ])\n",
    "    return model"
   ]
  },
  {
   "cell_type": "code",
   "execution_count": 60,
   "metadata": {},
   "outputs": [
    {
     "name": "stdout",
     "output_type": "stream",
     "text": [
      "Model: \"model_3\"\n",
      "_________________________________________________________________\n",
      " Layer (type)                Output Shape              Param #   \n",
      "=================================================================\n",
      " input_4 (InputLayer)        [(None, 720, 720, 3)]     0         \n",
      "                                                                 \n",
      " resizing_3 (Resizing)       (None, 360, 360, 3)       0         \n",
      "                                                                 \n",
      " conv2d_6 (Conv2D)           (None, 358, 358, 32)      896       \n",
      "                                                                 \n",
      " max_pooling2d_6 (MaxPooling  (None, 179, 179, 32)     0         \n",
      " 2D)                                                             \n",
      "                                                                 \n",
      " conv2d_7 (Conv2D)           (None, 177, 177, 64)      18496     \n",
      "                                                                 \n",
      " max_pooling2d_7 (MaxPooling  (None, 88, 88, 64)       0         \n",
      " 2D)                                                             \n",
      "                                                                 \n",
      " flatten_3 (Flatten)         (None, 495616)            0         \n",
      "                                                                 \n",
      " dense_6 (Dense)             (None, 16)                7929872   \n",
      "                                                                 \n",
      " dense_7 (Dense)             (None, 7)                 119       \n",
      "                                                                 \n",
      "=================================================================\n",
      "Total params: 7,949,383\n",
      "Trainable params: 7,949,383\n",
      "Non-trainable params: 0\n",
      "_________________________________________________________________\n"
     ]
    },
    {
     "name": "stderr",
     "output_type": "stream",
     "text": [
      "/tmp/ipykernel_10544/3318589599.py:6: UserWarning: `Model.fit_generator` is deprecated and will be removed in a future version. Please use `Model.fit`, which supports generators.\n",
      "  history2 =model2.fit_generator(generator=train_generator,\n"
     ]
    },
    {
     "name": "stdout",
     "output_type": "stream",
     "text": [
      "Epoch 1/10\n"
     ]
    },
    {
     "name": "stderr",
     "output_type": "stream",
     "text": [
      "2023-05-24 07:46:52.791055: I tensorflow/core/grappler/optimizers/custom_graph_optimizer_registry.cc:114] Plugin optimizer for device_type GPU is enabled.\n",
      "2023-05-24 07:46:52.889881: I tensorflow/core/common_runtime/pluggable_device/pluggable_device_factory.cc:306] Could not identify NUMA node of platform GPU ID 0, defaulting to 0. Your kernel may not have been built with NUMA support.\n",
      "2023-05-24 07:46:52.889923: I tensorflow/core/common_runtime/pluggable_device/pluggable_device_factory.cc:306] Could not identify NUMA node of platform GPU ID 1, defaulting to 0. Your kernel may not have been built with NUMA support.\n",
      "2023-05-24 07:46:52.889939: I tensorflow/core/common_runtime/pluggable_device/pluggable_device_factory.cc:272] Created TensorFlow device (/job:localhost/replica:0/task:0/device:GPU:0 with 51939 MB memory) -> physical PluggableDevice (device: 0, name: DML, pci bus id: <undefined>)\n",
      "2023-05-24 07:46:52.889950: I tensorflow/core/common_runtime/pluggable_device/pluggable_device_factory.cc:272] Created TensorFlow device (/job:localhost/replica:0/task:0/device:GPU:1 with 45099 MB memory) -> physical PluggableDevice (device: 1, name: DML, pci bus id: <undefined>)\n",
      "2023-05-24 07:46:52.891268: I tensorflow/core/common_runtime/pluggable_device/pluggable_device_factory.cc:306] Could not identify NUMA node of platform GPU ID 0, defaulting to 0. Your kernel may not have been built with NUMA support.\n",
      "2023-05-24 07:46:52.891304: I tensorflow/core/common_runtime/pluggable_device/pluggable_device_factory.cc:306] Could not identify NUMA node of platform GPU ID 1, defaulting to 0. Your kernel may not have been built with NUMA support.\n",
      "2023-05-24 07:46:52.891316: I tensorflow/core/common_runtime/pluggable_device/pluggable_device_factory.cc:272] Created TensorFlow device (/job:localhost/replica:0/task:0/device:GPU:0 with 51939 MB memory) -> physical PluggableDevice (device: 0, name: DML, pci bus id: <undefined>)\n",
      "2023-05-24 07:46:52.891344: I tensorflow/core/common_runtime/pluggable_device/pluggable_device_factory.cc:272] Created TensorFlow device (/job:localhost/replica:0/task:0/device:GPU:1 with 45099 MB memory) -> physical PluggableDevice (device: 1, name: DML, pci bus id: <undefined>)\n",
      "2023-05-24 07:46:52.892475: I tensorflow/core/common_runtime/pluggable_device/pluggable_device_factory.cc:306] Could not identify NUMA node of platform GPU ID 0, defaulting to 0. Your kernel may not have been built with NUMA support.\n",
      "2023-05-24 07:46:52.892509: I tensorflow/core/common_runtime/pluggable_device/pluggable_device_factory.cc:306] Could not identify NUMA node of platform GPU ID 1, defaulting to 0. Your kernel may not have been built with NUMA support.\n",
      "2023-05-24 07:46:52.892523: I tensorflow/core/common_runtime/pluggable_device/pluggable_device_factory.cc:272] Created TensorFlow device (/job:localhost/replica:0/task:0/device:GPU:0 with 51939 MB memory) -> physical PluggableDevice (device: 0, name: DML, pci bus id: <undefined>)\n",
      "2023-05-24 07:46:52.892532: I tensorflow/core/common_runtime/pluggable_device/pluggable_device_factory.cc:272] Created TensorFlow device (/job:localhost/replica:0/task:0/device:GPU:1 with 45099 MB memory) -> physical PluggableDevice (device: 1, name: DML, pci bus id: <undefined>)\n",
      "2023-05-24 07:46:52.893465: I tensorflow/core/common_runtime/pluggable_device/pluggable_device_factory.cc:306] Could not identify NUMA node of platform GPU ID 0, defaulting to 0. Your kernel may not have been built with NUMA support.\n",
      "2023-05-24 07:46:52.893487: I tensorflow/core/common_runtime/pluggable_device/pluggable_device_factory.cc:306] Could not identify NUMA node of platform GPU ID 1, defaulting to 0. Your kernel may not have been built with NUMA support.\n",
      "2023-05-24 07:46:52.893498: I tensorflow/core/common_runtime/pluggable_device/pluggable_device_factory.cc:272] Created TensorFlow device (/job:localhost/replica:0/task:0/device:GPU:0 with 51939 MB memory) -> physical PluggableDevice (device: 0, name: DML, pci bus id: <undefined>)\n",
      "2023-05-24 07:46:52.893515: I tensorflow/core/common_runtime/pluggable_device/pluggable_device_factory.cc:272] Created TensorFlow device (/job:localhost/replica:0/task:0/device:GPU:1 with 45099 MB memory) -> physical PluggableDevice (device: 1, name: DML, pci bus id: <undefined>)\n",
      "2023-05-24 07:46:52.894606: I tensorflow/core/common_runtime/pluggable_device/pluggable_device_factory.cc:306] Could not identify NUMA node of platform GPU ID 0, defaulting to 0. Your kernel may not have been built with NUMA support.\n",
      "2023-05-24 07:46:52.894628: I tensorflow/core/common_runtime/pluggable_device/pluggable_device_factory.cc:306] Could not identify NUMA node of platform GPU ID 1, defaulting to 0. Your kernel may not have been built with NUMA support.\n",
      "2023-05-24 07:46:52.894641: I tensorflow/core/common_runtime/pluggable_device/pluggable_device_factory.cc:272] Created TensorFlow device (/job:localhost/replica:0/task:0/device:GPU:0 with 51939 MB memory) -> physical PluggableDevice (device: 0, name: DML, pci bus id: <undefined>)\n",
      "2023-05-24 07:46:52.894649: I tensorflow/core/common_runtime/pluggable_device/pluggable_device_factory.cc:272] Created TensorFlow device (/job:localhost/replica:0/task:0/device:GPU:1 with 45099 MB memory) -> physical PluggableDevice (device: 1, name: DML, pci bus id: <undefined>)\n",
      "2023-05-24 07:46:52.895137: I tensorflow/core/common_runtime/pluggable_device/pluggable_device_factory.cc:306] Could not identify NUMA node of platform GPU ID 0, defaulting to 0. Your kernel may not have been built with NUMA support.\n",
      "2023-05-24 07:46:52.895157: I tensorflow/core/common_runtime/pluggable_device/pluggable_device_factory.cc:306] Could not identify NUMA node of platform GPU ID 1, defaulting to 0. Your kernel may not have been built with NUMA support.\n",
      "2023-05-24 07:46:52.895167: I tensorflow/core/common_runtime/pluggable_device/pluggable_device_factory.cc:272] Created TensorFlow device (/job:localhost/replica:0/task:0/device:GPU:0 with 51939 MB memory) -> physical PluggableDevice (device: 0, name: DML, pci bus id: <undefined>)\n",
      "2023-05-24 07:46:52.895174: I tensorflow/core/common_runtime/pluggable_device/pluggable_device_factory.cc:272] Created TensorFlow device (/job:localhost/replica:0/task:0/device:GPU:1 with 45099 MB memory) -> physical PluggableDevice (device: 1, name: DML, pci bus id: <undefined>)\n"
     ]
    },
    {
     "name": "stdout",
     "output_type": "stream",
     "text": [
      "141/141 [==============================] - ETA: 0s - loss: 0.5301 - auc: 0.6840 - pr_auc: 0.2352 - precision: 0.2306 - recall: 0.3680 - accuracy: 0.2894"
     ]
    },
    {
     "name": "stderr",
     "output_type": "stream",
     "text": [
      "2023-05-24 07:48:50.895385: I tensorflow/core/grappler/optimizers/custom_graph_optimizer_registry.cc:114] Plugin optimizer for device_type GPU is enabled.\n",
      "2023-05-24 07:48:50.964222: I tensorflow/core/common_runtime/pluggable_device/pluggable_device_factory.cc:306] Could not identify NUMA node of platform GPU ID 0, defaulting to 0. Your kernel may not have been built with NUMA support.\n",
      "2023-05-24 07:48:50.964289: I tensorflow/core/common_runtime/pluggable_device/pluggable_device_factory.cc:306] Could not identify NUMA node of platform GPU ID 1, defaulting to 0. Your kernel may not have been built with NUMA support.\n",
      "2023-05-24 07:48:50.964307: I tensorflow/core/common_runtime/pluggable_device/pluggable_device_factory.cc:272] Created TensorFlow device (/job:localhost/replica:0/task:0/device:GPU:0 with 51939 MB memory) -> physical PluggableDevice (device: 0, name: DML, pci bus id: <undefined>)\n",
      "2023-05-24 07:48:50.964318: I tensorflow/core/common_runtime/pluggable_device/pluggable_device_factory.cc:272] Created TensorFlow device (/job:localhost/replica:0/task:0/device:GPU:1 with 45099 MB memory) -> physical PluggableDevice (device: 1, name: DML, pci bus id: <undefined>)\n",
      "2023-05-24 07:48:50.965546: I tensorflow/core/common_runtime/pluggable_device/pluggable_device_factory.cc:306] Could not identify NUMA node of platform GPU ID 0, defaulting to 0. Your kernel may not have been built with NUMA support.\n",
      "2023-05-24 07:48:50.965570: I tensorflow/core/common_runtime/pluggable_device/pluggable_device_factory.cc:306] Could not identify NUMA node of platform GPU ID 1, defaulting to 0. Your kernel may not have been built with NUMA support.\n",
      "2023-05-24 07:48:50.965583: I tensorflow/core/common_runtime/pluggable_device/pluggable_device_factory.cc:272] Created TensorFlow device (/job:localhost/replica:0/task:0/device:GPU:0 with 51939 MB memory) -> physical PluggableDevice (device: 0, name: DML, pci bus id: <undefined>)\n",
      "2023-05-24 07:48:50.965595: I tensorflow/core/common_runtime/pluggable_device/pluggable_device_factory.cc:272] Created TensorFlow device (/job:localhost/replica:0/task:0/device:GPU:1 with 45099 MB memory) -> physical PluggableDevice (device: 1, name: DML, pci bus id: <undefined>)\n",
      "2023-05-24 07:48:50.966170: I tensorflow/core/common_runtime/pluggable_device/pluggable_device_factory.cc:306] Could not identify NUMA node of platform GPU ID 0, defaulting to 0. Your kernel may not have been built with NUMA support.\n",
      "2023-05-24 07:48:50.966226: I tensorflow/core/common_runtime/pluggable_device/pluggable_device_factory.cc:306] Could not identify NUMA node of platform GPU ID 1, defaulting to 0. Your kernel may not have been built with NUMA support.\n",
      "2023-05-24 07:48:50.966247: I tensorflow/core/common_runtime/pluggable_device/pluggable_device_factory.cc:272] Created TensorFlow device (/job:localhost/replica:0/task:0/device:GPU:0 with 51939 MB memory) -> physical PluggableDevice (device: 0, name: DML, pci bus id: <undefined>)\n",
      "2023-05-24 07:48:50.966263: I tensorflow/core/common_runtime/pluggable_device/pluggable_device_factory.cc:272] Created TensorFlow device (/job:localhost/replica:0/task:0/device:GPU:1 with 45099 MB memory) -> physical PluggableDevice (device: 1, name: DML, pci bus id: <undefined>)\n",
      "2023-05-24 07:48:50.967130: I tensorflow/core/common_runtime/pluggable_device/pluggable_device_factory.cc:306] Could not identify NUMA node of platform GPU ID 0, defaulting to 0. Your kernel may not have been built with NUMA support.\n",
      "2023-05-24 07:48:50.967154: I tensorflow/core/common_runtime/pluggable_device/pluggable_device_factory.cc:306] Could not identify NUMA node of platform GPU ID 1, defaulting to 0. Your kernel may not have been built with NUMA support.\n",
      "2023-05-24 07:48:50.967169: I tensorflow/core/common_runtime/pluggable_device/pluggable_device_factory.cc:272] Created TensorFlow device (/job:localhost/replica:0/task:0/device:GPU:0 with 51939 MB memory) -> physical PluggableDevice (device: 0, name: DML, pci bus id: <undefined>)\n",
      "2023-05-24 07:48:50.967178: I tensorflow/core/common_runtime/pluggable_device/pluggable_device_factory.cc:272] Created TensorFlow device (/job:localhost/replica:0/task:0/device:GPU:1 with 45099 MB memory) -> physical PluggableDevice (device: 1, name: DML, pci bus id: <undefined>)\n",
      "2023-05-24 07:48:50.968104: I tensorflow/core/common_runtime/pluggable_device/pluggable_device_factory.cc:306] Could not identify NUMA node of platform GPU ID 0, defaulting to 0. Your kernel may not have been built with NUMA support.\n",
      "2023-05-24 07:48:50.968131: I tensorflow/core/common_runtime/pluggable_device/pluggable_device_factory.cc:306] Could not identify NUMA node of platform GPU ID 1, defaulting to 0. Your kernel may not have been built with NUMA support.\n",
      "2023-05-24 07:48:50.968144: I tensorflow/core/common_runtime/pluggable_device/pluggable_device_factory.cc:272] Created TensorFlow device (/job:localhost/replica:0/task:0/device:GPU:0 with 51939 MB memory) -> physical PluggableDevice (device: 0, name: DML, pci bus id: <undefined>)\n",
      "2023-05-24 07:48:50.968153: I tensorflow/core/common_runtime/pluggable_device/pluggable_device_factory.cc:272] Created TensorFlow device (/job:localhost/replica:0/task:0/device:GPU:1 with 45099 MB memory) -> physical PluggableDevice (device: 1, name: DML, pci bus id: <undefined>)\n",
      "2023-05-24 07:48:50.968658: I tensorflow/core/common_runtime/pluggable_device/pluggable_device_factory.cc:306] Could not identify NUMA node of platform GPU ID 0, defaulting to 0. Your kernel may not have been built with NUMA support.\n",
      "2023-05-24 07:48:50.968682: I tensorflow/core/common_runtime/pluggable_device/pluggable_device_factory.cc:306] Could not identify NUMA node of platform GPU ID 1, defaulting to 0. Your kernel may not have been built with NUMA support.\n",
      "2023-05-24 07:48:50.968694: I tensorflow/core/common_runtime/pluggable_device/pluggable_device_factory.cc:272] Created TensorFlow device (/job:localhost/replica:0/task:0/device:GPU:0 with 51939 MB memory) -> physical PluggableDevice (device: 0, name: DML, pci bus id: <undefined>)\n",
      "2023-05-24 07:48:50.968701: I tensorflow/core/common_runtime/pluggable_device/pluggable_device_factory.cc:272] Created TensorFlow device (/job:localhost/replica:0/task:0/device:GPU:1 with 45099 MB memory) -> physical PluggableDevice (device: 1, name: DML, pci bus id: <undefined>)\n"
     ]
    },
    {
     "name": "stdout",
     "output_type": "stream",
     "text": [
      "\n",
      "Epoch 1: loss improved from inf to 0.53012, saving model to methane_m2.hdf5\n",
      "141/141 [==============================] - 149s 1s/step - loss: 0.5301 - auc: 0.6840 - pr_auc: 0.2352 - precision: 0.2306 - recall: 0.3680 - accuracy: 0.2894 - val_loss: 0.3280 - val_auc: 0.8450 - val_pr_auc: 0.5651 - val_precision: 0.7066 - val_recall: 0.3000 - val_accuracy: 0.5147 - lr: 0.0010\n",
      "Epoch 2/10\n",
      "141/141 [==============================] - ETA: 0s - loss: 0.2960 - auc: 0.8606 - pr_auc: 0.6106 - precision: 0.7418 - recall: 0.3507 - accuracy: 0.5511\n",
      "Epoch 2: loss improved from 0.53012 to 0.29602, saving model to methane_m2.hdf5\n",
      "141/141 [==============================] - 151s 1s/step - loss: 0.2960 - auc: 0.8606 - pr_auc: 0.6106 - precision: 0.7418 - recall: 0.3507 - accuracy: 0.5511 - val_loss: 0.2892 - val_auc: 0.8559 - val_pr_auc: 0.5991 - val_precision: 0.7774 - val_recall: 0.3040 - val_accuracy: 0.5165 - lr: 0.0010\n",
      "Epoch 3/10\n",
      "141/141 [==============================] - ETA: 0s - loss: 0.2682 - auc: 0.8792 - pr_auc: 0.6440 - precision: 0.7483 - recall: 0.3812 - accuracy: 0.5788\n",
      "Epoch 3: loss improved from 0.29602 to 0.26819, saving model to methane_m2.hdf5\n",
      "141/141 [==============================] - 149s 1s/step - loss: 0.2682 - auc: 0.8792 - pr_auc: 0.6440 - precision: 0.7483 - recall: 0.3812 - accuracy: 0.5788 - val_loss: 0.2674 - val_auc: 0.8792 - val_pr_auc: 0.6438 - val_precision: 0.6906 - val_recall: 0.4286 - val_accuracy: 0.5612 - lr: 0.0010\n",
      "Epoch 4/10\n",
      "141/141 [==============================] - ETA: 0s - loss: 0.2492 - auc: 0.8970 - pr_auc: 0.6900 - precision: 0.7790 - recall: 0.4372 - accuracy: 0.6145\n",
      "Epoch 4: loss improved from 0.26819 to 0.24923, saving model to methane_m2.hdf5\n",
      "141/141 [==============================] - 149s 1s/step - loss: 0.2492 - auc: 0.8970 - pr_auc: 0.6900 - precision: 0.7790 - recall: 0.4372 - accuracy: 0.6145 - val_loss: 0.2707 - val_auc: 0.8828 - val_pr_auc: 0.6578 - val_precision: 0.6353 - val_recall: 0.5491 - val_accuracy: 0.5938 - lr: 0.0010\n",
      "Epoch 5/10\n",
      "141/141 [==============================] - ETA: 0s - loss: 0.2133 - auc: 0.9287 - pr_auc: 0.7649 - precision: 0.8121 - recall: 0.5354 - accuracy: 0.6934\n",
      "Epoch 5: loss improved from 0.24923 to 0.21332, saving model to methane_m2.hdf5\n",
      "141/141 [==============================] - 148s 1s/step - loss: 0.2133 - auc: 0.9287 - pr_auc: 0.7649 - precision: 0.8121 - recall: 0.5354 - accuracy: 0.6934 - val_loss: 0.2657 - val_auc: 0.8786 - val_pr_auc: 0.6551 - val_precision: 0.7538 - val_recall: 0.3991 - val_accuracy: 0.5933 - lr: 0.0010\n",
      "Epoch 6/10\n",
      "141/141 [==============================] - ETA: 0s - loss: 0.1684 - auc: 0.9567 - pr_auc: 0.8522 - precision: 0.8660 - recall: 0.6667 - accuracy: 0.7980\n",
      "Epoch 6: loss improved from 0.21332 to 0.16843, saving model to methane_m2.hdf5\n",
      "141/141 [==============================] - 146s 1s/step - loss: 0.1684 - auc: 0.9567 - pr_auc: 0.8522 - precision: 0.8660 - recall: 0.6667 - accuracy: 0.7980 - val_loss: 0.2859 - val_auc: 0.8729 - val_pr_auc: 0.6371 - val_precision: 0.6837 - val_recall: 0.4536 - val_accuracy: 0.5746 - lr: 0.0010\n",
      "Epoch 7/10\n",
      "141/141 [==============================] - ETA: 0s - loss: 0.1215 - auc: 0.9782 - pr_auc: 0.9193 - precision: 0.9024 - recall: 0.7767 - accuracy: 0.8767\n",
      "Epoch 7: loss improved from 0.16843 to 0.12148, saving model to methane_m2.hdf5\n",
      "141/141 [==============================] - 151s 1s/step - loss: 0.1215 - auc: 0.9782 - pr_auc: 0.9193 - precision: 0.9024 - recall: 0.7767 - accuracy: 0.8767 - val_loss: 0.3285 - val_auc: 0.8566 - val_pr_auc: 0.6268 - val_precision: 0.6793 - val_recall: 0.4576 - val_accuracy: 0.5853 - lr: 0.0010\n",
      "Epoch 8/10\n",
      "141/141 [==============================] - ETA: 0s - loss: 0.0803 - auc: 0.9906 - pr_auc: 0.9627 - precision: 0.9435 - recall: 0.8683 - accuracy: 0.9383\n",
      "Epoch 8: loss improved from 0.12148 to 0.08031, saving model to methane_m2.hdf5\n",
      "141/141 [==============================] - 150s 1s/step - loss: 0.0803 - auc: 0.9906 - pr_auc: 0.9627 - precision: 0.9435 - recall: 0.8683 - accuracy: 0.9383 - val_loss: 0.3920 - val_auc: 0.8588 - val_pr_auc: 0.6202 - val_precision: 0.6227 - val_recall: 0.5246 - val_accuracy: 0.5790 - lr: 0.0010\n",
      "Epoch 9/10\n",
      "141/141 [==============================] - ETA: 0s - loss: 0.0444 - auc: 0.9966 - pr_auc: 0.9884 - precision: 0.9788 - recall: 0.9414 - accuracy: 0.9736\n",
      "Epoch 9: loss improved from 0.08031 to 0.04440, saving model to methane_m2.hdf5\n",
      "141/141 [==============================] - 148s 1s/step - loss: 0.0444 - auc: 0.9966 - pr_auc: 0.9884 - precision: 0.9788 - recall: 0.9414 - accuracy: 0.9736 - val_loss: 0.4239 - val_auc: 0.8428 - val_pr_auc: 0.6175 - val_precision: 0.6579 - val_recall: 0.4929 - val_accuracy: 0.5862 - lr: 1.0000e-04\n",
      "Epoch 10/10\n",
      "141/141 [==============================] - ETA: 0s - loss: 0.0378 - auc: 0.9974 - pr_auc: 0.9915 - precision: 0.9843 - recall: 0.9518 - accuracy: 0.9774\n",
      "Epoch 10: loss improved from 0.04440 to 0.03776, saving model to methane_m2.hdf5\n",
      "141/141 [==============================] - 155s 1s/step - loss: 0.0378 - auc: 0.9974 - pr_auc: 0.9915 - precision: 0.9843 - recall: 0.9518 - accuracy: 0.9774 - val_loss: 0.4406 - val_auc: 0.8371 - val_pr_auc: 0.6133 - val_precision: 0.6673 - val_recall: 0.4701 - val_accuracy: 0.5835 - lr: 1.0000e-04\n",
      "44/44 [==============================] - 40s 899ms/step - loss: 0.4115 - auc: 0.8450 - pr_auc: 0.6602 - precision: 0.7297 - recall: 0.5348 - accuracy: 0.6396\n"
     ]
    }
   ],
   "source": [
    "model2=build_model2()\n",
    "model2.summary()\n",
    "cb = [callbacks.EarlyStopping(patience=5), callbacks.ReduceLROnPlateau(patience=3),callbacks.ModelCheckpoint('methane_m2.hdf5', monitor='loss',verbose=1, save_best_only=True)]\n",
    "epochs = 20\n",
    "# fits the model on batches with real-time data augmentation:\n",
    "history2 =model2.fit_generator(generator=train_generator,\n",
    "                    steps_per_epoch=STEP_SIZE_TRAIN,\n",
    "                    validation_data=validation_generator,\n",
    "                    validation_steps=STEP_SIZE_VALID,\n",
    "                    epochs=10, callbacks = cb)\n",
    "\n",
    "loss2, auc2, pr_auc2, precision2, recall2, accuracy2 =model2.evaluate(test_generator, steps=STEP_SIZE_TEST)"
   ]
  },
  {
   "cell_type": "code",
   "execution_count": 61,
   "metadata": {},
   "outputs": [
    {
     "name": "stderr",
     "output_type": "stream",
     "text": [
      "WARNING:absl:Found untraced functions such as _jit_compiled_convolution_op, _jit_compiled_convolution_op while saving (showing 2 of 2). These functions will not be directly callable after loading.\n"
     ]
    },
    {
     "name": "stdout",
     "output_type": "stream",
     "text": [
      "INFO:tensorflow:Assets written to: ram://15c15429-a133-4612-be0a-8771a349f054/assets\n"
     ]
    },
    {
     "name": "stderr",
     "output_type": "stream",
     "text": [
      "INFO:tensorflow:Assets written to: ram://15c15429-a133-4612-be0a-8771a349f054/assets\n"
     ]
    }
   ],
   "source": [
    "model_name = \"model2.pkl\"\n",
    "with open(model_name, 'wb') as archivo:\n",
    "    pickle.dump(model2, archivo)"
   ]
  },
  {
   "cell_type": "code",
   "execution_count": 21,
   "metadata": {},
   "outputs": [
    {
     "name": "stderr",
     "output_type": "stream",
     "text": [
      "2023-05-25 00:45:48.902361: I tensorflow/core/platform/cpu_feature_guard.cc:193] This TensorFlow binary is optimized with oneAPI Deep Neural Network Library (oneDNN) to use the following CPU instructions in performance-critical operations:  AVX2 AVX512F AVX512_VNNI FMA\n",
      "To enable them in other operations, rebuild TensorFlow with the appropriate compiler flags.\n",
      "2023-05-25 00:45:48.903332: I tensorflow/c/logging.cc:34] DirectML: creating device on adapter 0 (NVIDIA RTX A4000 Laptop GPU)\n",
      "2023-05-25 00:45:51.004943: I tensorflow/c/logging.cc:34] DirectML: creating device on adapter 1 (Intel(R) UHD Graphics)\n",
      "2023-05-25 00:45:51.023251: I tensorflow/core/common_runtime/pluggable_device/pluggable_device_factory.cc:306] Could not identify NUMA node of platform GPU ID 0, defaulting to 0. Your kernel may not have been built with NUMA support.\n",
      "2023-05-25 00:45:51.023270: I tensorflow/core/common_runtime/pluggable_device/pluggable_device_factory.cc:306] Could not identify NUMA node of platform GPU ID 1, defaulting to 0. Your kernel may not have been built with NUMA support.\n",
      "2023-05-25 00:45:51.023288: W tensorflow/core/common_runtime/pluggable_device/pluggable_device_bfc_allocator.cc:28] Overriding allow_growth setting because force_memory_growth was requested by the device.\n",
      "2023-05-25 00:45:51.023318: I tensorflow/core/common_runtime/pluggable_device/pluggable_device_factory.cc:272] Created TensorFlow device (/job:localhost/replica:0/task:0/device:GPU:0 with 51939 MB memory) -> physical PluggableDevice (device: 0, name: DML, pci bus id: <undefined>)\n",
      "2023-05-25 00:45:51.023980: W tensorflow/core/common_runtime/pluggable_device/pluggable_device_bfc_allocator.cc:28] Overriding allow_growth setting because force_memory_growth was requested by the device.\n",
      "2023-05-25 00:45:51.024002: I tensorflow/core/common_runtime/pluggable_device/pluggable_device_factory.cc:272] Created TensorFlow device (/job:localhost/replica:0/task:0/device:GPU:1 with 45099 MB memory) -> physical PluggableDevice (device: 1, name: DML, pci bus id: <undefined>)\n"
     ]
    }
   ],
   "source": [
    "model_name = \"model2.pkl\"\n",
    "with open(model_name, 'rb') as archivo:\n",
    "    model2 = pickle.load(archivo)"
   ]
  },
  {
   "attachments": {},
   "cell_type": "markdown",
   "metadata": {},
   "source": [
    "OVERALL RESULTS FOR BINARY MODEL"
   ]
  },
  {
   "cell_type": "code",
   "execution_count": 22,
   "metadata": {},
   "outputs": [
    {
     "ename": "NameError",
     "evalue": "name 'history2' is not defined",
     "output_type": "error",
     "traceback": [
      "\u001b[0;31m---------------------------------------------------------------------------\u001b[0m",
      "\u001b[0;31mNameError\u001b[0m                                 Traceback (most recent call last)",
      "\u001b[1;32m/root/code/dvictoria2/methane_source/baseline.ipynb Celda 35\u001b[0m in \u001b[0;36m1\n\u001b[0;32m----> <a href='vscode-notebook-cell://wsl%2Bubuntu-22.04/root/code/dvictoria2/methane_source/baseline.ipynb#X45sdnNjb2RlLXJlbW90ZQ%3D%3D?line=0'>1</a>\u001b[0m plot_metrics(history2)\n",
      "\u001b[0;31mNameError\u001b[0m: name 'history2' is not defined"
     ]
    }
   ],
   "source": [
    "plot_metrics(history2)"
   ]
  },
  {
   "cell_type": "code",
   "execution_count": 63,
   "metadata": {},
   "outputs": [],
   "source": [
    "resu2= pd.DataFrame({'metrics': ['loss', 'auc', 'pr_auc',' precision', 'recall', 'accuracy'],\n",
    "                    'value': [loss2, auc2, pr_auc2, precision2, recall2, accuracy2]})"
   ]
  },
  {
   "cell_type": "code",
   "execution_count": 24,
   "metadata": {},
   "outputs": [],
   "source": [
    "X_test, y_test = test_generator.next()"
   ]
  },
  {
   "cell_type": "code",
   "execution_count": 30,
   "metadata": {},
   "outputs": [
    {
     "name": "stdout",
     "output_type": "stream",
     "text": [
      "{0: 'CAFOs', 1: 'Landfills', 2: 'Mines', 3: 'Negative', 4: 'ProcessingPlants', 5: 'RefineriesAndTerminals', 6: 'WWTreatment'}\n"
     ]
    }
   ],
   "source": [
    "class_indices = train_generator.class_indices\n",
    "category_names = {v: k for k, v in class_indices.items()}\n",
    "print(category_names)"
   ]
  },
  {
   "cell_type": "code",
   "execution_count": 25,
   "metadata": {},
   "outputs": [
    {
     "name": "stderr",
     "output_type": "stream",
     "text": [
      "2023-05-25 00:46:25.373198: I tensorflow/core/grappler/optimizers/custom_graph_optimizer_registry.cc:114] Plugin optimizer for device_type GPU is enabled.\n"
     ]
    },
    {
     "name": "stdout",
     "output_type": "stream",
     "text": [
      "5/5 [==============================] - 2s 84ms/step\n"
     ]
    },
    {
     "name": "stderr",
     "output_type": "stream",
     "text": [
      "2023-05-25 00:46:27.356555: I tensorflow/core/common_runtime/pluggable_device/pluggable_device_factory.cc:306] Could not identify NUMA node of platform GPU ID 0, defaulting to 0. Your kernel may not have been built with NUMA support.\n",
      "2023-05-25 00:46:27.356594: I tensorflow/core/common_runtime/pluggable_device/pluggable_device_factory.cc:306] Could not identify NUMA node of platform GPU ID 1, defaulting to 0. Your kernel may not have been built with NUMA support.\n",
      "2023-05-25 00:46:27.356626: I tensorflow/core/common_runtime/pluggable_device/pluggable_device_factory.cc:272] Created TensorFlow device (/job:localhost/replica:0/task:0/device:GPU:0 with 51939 MB memory) -> physical PluggableDevice (device: 0, name: DML, pci bus id: <undefined>)\n",
      "2023-05-25 00:46:27.356637: I tensorflow/core/common_runtime/pluggable_device/pluggable_device_factory.cc:272] Created TensorFlow device (/job:localhost/replica:0/task:0/device:GPU:1 with 45099 MB memory) -> physical PluggableDevice (device: 1, name: DML, pci bus id: <undefined>)\n",
      "2023-05-25 00:46:27.364616: I tensorflow/core/common_runtime/pluggable_device/pluggable_device_factory.cc:306] Could not identify NUMA node of platform GPU ID 0, defaulting to 0. Your kernel may not have been built with NUMA support.\n",
      "2023-05-25 00:46:27.364659: I tensorflow/core/common_runtime/pluggable_device/pluggable_device_factory.cc:306] Could not identify NUMA node of platform GPU ID 1, defaulting to 0. Your kernel may not have been built with NUMA support.\n",
      "2023-05-25 00:46:27.364678: I tensorflow/core/common_runtime/pluggable_device/pluggable_device_factory.cc:272] Created TensorFlow device (/job:localhost/replica:0/task:0/device:GPU:0 with 51939 MB memory) -> physical PluggableDevice (device: 0, name: DML, pci bus id: <undefined>)\n",
      "2023-05-25 00:46:27.364690: I tensorflow/core/common_runtime/pluggable_device/pluggable_device_factory.cc:272] Created TensorFlow device (/job:localhost/replica:0/task:0/device:GPU:1 with 45099 MB memory) -> physical PluggableDevice (device: 1, name: DML, pci bus id: <undefined>)\n",
      "2023-05-25 00:46:27.369455: I tensorflow/core/common_runtime/pluggable_device/pluggable_device_factory.cc:306] Could not identify NUMA node of platform GPU ID 0, defaulting to 0. Your kernel may not have been built with NUMA support.\n",
      "2023-05-25 00:46:27.369516: I tensorflow/core/common_runtime/pluggable_device/pluggable_device_factory.cc:306] Could not identify NUMA node of platform GPU ID 1, defaulting to 0. Your kernel may not have been built with NUMA support.\n",
      "2023-05-25 00:46:27.369537: I tensorflow/core/common_runtime/pluggable_device/pluggable_device_factory.cc:272] Created TensorFlow device (/job:localhost/replica:0/task:0/device:GPU:0 with 51939 MB memory) -> physical PluggableDevice (device: 0, name: DML, pci bus id: <undefined>)\n",
      "2023-05-25 00:46:27.369549: I tensorflow/core/common_runtime/pluggable_device/pluggable_device_factory.cc:272] Created TensorFlow device (/job:localhost/replica:0/task:0/device:GPU:1 with 45099 MB memory) -> physical PluggableDevice (device: 1, name: DML, pci bus id: <undefined>)\n"
     ]
    }
   ],
   "source": [
    "y_pred_binary=model2.predict(X_test)"
   ]
  },
  {
   "cell_type": "code",
   "execution_count": 26,
   "metadata": {},
   "outputs": [
    {
     "data": {
      "text/plain": [
       "array([[6.09411811e-03, 2.18743198e-02, 2.19237767e-02, 6.84730828e-01,\n",
       "        7.62199331e-03, 9.75158811e-03, 1.01991169e-01],\n",
       "       [6.29239455e-02, 5.44129126e-02, 1.99048554e-05, 4.36632335e-02,\n",
       "        1.27374951e-04, 3.13976780e-04, 2.48269871e-01],\n",
       "       [5.82828606e-03, 6.92123994e-02, 5.82708628e-04, 5.66777945e-01,\n",
       "        2.69539480e-04, 1.80881715e-03, 9.16389674e-02],\n",
       "       [1.18569827e-04, 8.23305994e-02, 1.36085097e-02, 2.82099247e-01,\n",
       "        2.74655665e-03, 7.07901223e-03, 1.66381802e-02],\n",
       "       [9.97964144e-01, 1.94839144e-04, 1.53004803e-05, 1.34610484e-04,\n",
       "        8.56825645e-05, 1.85248386e-02, 1.23913391e-02],\n",
       "       [1.67387892e-09, 9.64232605e-09, 3.69325280e-05, 9.72581387e-01,\n",
       "        6.30556727e-08, 5.38636300e-07, 1.29290620e-05],\n",
       "       [9.91082370e-01, 3.59460137e-05, 9.24909909e-06, 1.27177322e-02,\n",
       "        2.62927533e-05, 1.60332012e-03, 4.44960967e-02],\n",
       "       [2.14899238e-03, 4.29880247e-03, 2.61795678e-04, 9.84019518e-01,\n",
       "        3.73827759e-03, 2.39350926e-02, 5.95364254e-03],\n",
       "       [6.79856688e-02, 6.09814422e-04, 7.07959543e-07, 3.55562508e-01,\n",
       "        9.22152612e-05, 3.05625668e-04, 3.22462879e-02],\n",
       "       [4.45510705e-06, 9.40092087e-01, 1.52316585e-03, 2.15590280e-02,\n",
       "        3.12433615e-02, 1.75475157e-04, 5.13805270e-01],\n",
       "       [6.80838421e-05, 2.74871346e-02, 4.25269753e-02, 8.55427504e-01,\n",
       "        2.75344439e-02, 1.12591928e-03, 2.21997991e-01],\n",
       "       [4.30897204e-03, 9.44839716e-02, 2.29942147e-02, 3.29416543e-01,\n",
       "        2.96608731e-03, 4.88634594e-02, 1.72784962e-02],\n",
       "       [3.87497785e-05, 1.76118818e-04, 1.60902391e-06, 1.41548157e-01,\n",
       "        2.22310405e-06, 2.22215795e-06, 1.66916549e-02],\n",
       "       [1.34209976e-01, 2.72669946e-04, 5.73665602e-06, 8.54641259e-01,\n",
       "        1.60591060e-06, 1.06386258e-04, 5.19954227e-02],\n",
       "       [7.76777029e-01, 8.46668845e-05, 1.00807571e-04, 1.85294449e-03,\n",
       "        2.39868794e-04, 4.56307922e-03, 1.20894052e-02],\n",
       "       [8.12303479e-05, 3.71825910e-04, 8.16326065e-07, 9.73068655e-01,\n",
       "        2.41951113e-07, 1.09862788e-06, 5.83434217e-02],\n",
       "       [3.74290248e-05, 1.80392472e-05, 3.95017350e-03, 7.73358881e-01,\n",
       "        2.26087612e-03, 4.94538617e-05, 4.77593057e-02],\n",
       "       [2.65555317e-03, 3.30324314e-04, 2.19661996e-01, 8.74195993e-01,\n",
       "        5.18108020e-03, 5.72014749e-02, 4.23047459e-03],\n",
       "       [1.10484762e-13, 1.07083101e-11, 1.88478150e-15, 1.00000000e+00,\n",
       "        2.31028321e-06, 2.22982646e-08, 1.26051503e-07],\n",
       "       [3.68437213e-05, 6.79220073e-04, 1.93148991e-03, 2.99730897e-01,\n",
       "        2.51450892e-05, 3.84624186e-03, 2.46416574e-04],\n",
       "       [1.82396019e-04, 8.80138054e-02, 2.10897694e-03, 7.39082277e-01,\n",
       "        9.05336160e-03, 1.28580228e-04, 6.50452614e-01],\n",
       "       [3.18253660e-06, 3.23691637e-07, 5.93711249e-08, 9.99987245e-01,\n",
       "        3.09512345e-03, 8.37183470e-05, 6.61666680e-04],\n",
       "       [1.01968810e-01, 1.29494918e-04, 1.62655767e-02, 3.28406371e-04,\n",
       "        8.59620050e-03, 1.18690781e-01, 8.86726542e-04],\n",
       "       [1.15580305e-01, 5.80460206e-03, 1.52609916e-02, 8.43209147e-01,\n",
       "        2.20782007e-03, 6.16991892e-02, 2.78549921e-02],\n",
       "       [1.50163384e-08, 4.09374969e-08, 2.42909859e-11, 9.99997616e-01,\n",
       "        2.36183914e-05, 4.15909902e-08, 1.34193816e-03],\n",
       "       [9.81530488e-01, 9.50107460e-06, 5.41724467e-06, 2.40732403e-03,\n",
       "        6.62737602e-06, 2.38179509e-03, 4.76942118e-03],\n",
       "       [1.10053283e-03, 5.92380669e-03, 6.80122245e-03, 9.71515059e-01,\n",
       "        8.13994464e-03, 2.46730447e-02, 1.30154528e-02],\n",
       "       [9.85859707e-03, 4.10107262e-02, 4.32450371e-03, 4.93810810e-02,\n",
       "        1.47313140e-02, 3.82894184e-03, 1.80739790e-01],\n",
       "       [8.17358092e-09, 8.29011115e-05, 9.32154021e-10, 9.99783158e-01,\n",
       "        1.16496301e-06, 3.03546443e-07, 9.79934004e-04],\n",
       "       [4.26869110e-06, 3.34676318e-02, 8.15389194e-06, 4.71496768e-02,\n",
       "        9.24344989e-04, 4.21066716e-07, 7.68427551e-01],\n",
       "       [1.13763925e-07, 1.68821509e-06, 1.12800322e-07, 9.29945946e-01,\n",
       "        6.84462478e-08, 6.36895825e-09, 1.59882866e-02],\n",
       "       [7.90804293e-08, 1.04670544e-05, 3.36129938e-06, 9.99935269e-01,\n",
       "        5.13907010e-03, 8.23492519e-06, 1.14584891e-02],\n",
       "       [1.82999842e-14, 2.66233823e-12, 7.40129851e-15, 1.00000000e+00,\n",
       "        1.07461199e-06, 6.49869492e-08, 8.42778825e-09],\n",
       "       [2.06775667e-06, 2.87871459e-04, 2.20151762e-07, 2.79238969e-01,\n",
       "        3.49914699e-05, 4.72071893e-09, 8.43963802e-01],\n",
       "       [4.77429340e-03, 4.11200999e-05, 5.65816707e-04, 8.90179276e-01,\n",
       "        6.08259143e-05, 3.77522112e-04, 1.67960860e-02],\n",
       "       [3.65448058e-01, 1.04388209e-05, 4.92303172e-07, 6.34539068e-01,\n",
       "        1.61256321e-05, 7.25407037e-04, 4.22905060e-03],\n",
       "       [4.51433435e-02, 1.97995381e-04, 9.66635434e-06, 7.46660586e-03,\n",
       "        4.73465770e-05, 1.05340463e-04, 3.47674862e-02],\n",
       "       [2.50346959e-03, 9.56140459e-03, 1.42738607e-03, 9.75079954e-01,\n",
       "        9.17817559e-03, 3.38960737e-02, 1.23320036e-02],\n",
       "       [1.47661529e-04, 3.79547055e-06, 2.82357405e-06, 9.99066055e-01,\n",
       "        5.92459925e-03, 3.34576995e-04, 4.72864788e-03],\n",
       "       [9.99515176e-01, 2.22153517e-06, 3.98072302e-07, 1.58882392e-06,\n",
       "        5.90194977e-05, 5.81591390e-04, 2.34850030e-02],\n",
       "       [7.84720216e-13, 3.37442400e-11, 1.48120330e-14, 1.00000000e+00,\n",
       "        4.93340804e-06, 4.64019116e-08, 3.74083498e-07],\n",
       "       [9.12075047e-04, 1.47607515e-03, 6.37419336e-03, 6.04232490e-01,\n",
       "        4.58558574e-02, 4.16747667e-03, 4.71994877e-02],\n",
       "       [1.79423336e-02, 3.61087583e-02, 5.47433421e-02, 7.89430618e-01,\n",
       "        1.19122388e-02, 4.47331741e-02, 7.51056448e-02],\n",
       "       [9.36465681e-01, 5.21066831e-03, 3.36215075e-04, 3.82374087e-03,\n",
       "        2.64298404e-04, 7.47308210e-02, 1.10087628e-02],\n",
       "       [1.32306397e-01, 1.96599751e-04, 2.03006290e-04, 2.79648602e-02,\n",
       "        2.48126821e-06, 5.58859371e-02, 8.42543814e-05],\n",
       "       [8.76813471e-01, 1.78368785e-03, 1.13675138e-04, 3.04540526e-03,\n",
       "        1.63123055e-04, 1.72440000e-02, 1.43422531e-02],\n",
       "       [1.44336656e-01, 6.67815562e-03, 1.26080849e-04, 2.27875635e-01,\n",
       "        1.03585815e-04, 1.72195700e-03, 7.26544410e-02],\n",
       "       [8.56374111e-03, 3.33052874e-02, 6.94341073e-03, 9.39980388e-01,\n",
       "        9.57378652e-04, 6.57908339e-03, 1.01104073e-01],\n",
       "       [1.63770898e-03, 3.77794914e-02, 1.64534561e-02, 7.73050904e-01,\n",
       "        6.76981220e-03, 2.23139953e-02, 2.89357249e-02],\n",
       "       [2.13244438e-01, 4.49465821e-03, 3.59264159e-05, 8.14649090e-03,\n",
       "        1.58608379e-03, 1.55462665e-04, 5.30682921e-01],\n",
       "       [9.90214851e-03, 1.03320226e-01, 2.28600460e-03, 1.80226937e-03,\n",
       "        5.09515824e-03, 1.75880473e-02, 2.07921565e-02],\n",
       "       [3.20449521e-06, 3.32183158e-03, 5.31215010e-05, 8.08453023e-01,\n",
       "        7.48909224e-05, 3.39910957e-06, 1.46805212e-01],\n",
       "       [3.57539370e-03, 1.83362272e-02, 1.44341693e-05, 4.51998025e-01,\n",
       "        1.13941802e-04, 1.82298681e-05, 5.67814112e-01],\n",
       "       [5.23379266e-01, 8.31539091e-06, 8.13784737e-08, 5.87822050e-02,\n",
       "        9.50163326e-07, 2.71105523e-06, 1.63605332e-01],\n",
       "       [4.70128795e-03, 3.90357636e-05, 2.24296297e-08, 9.95829523e-01,\n",
       "        3.72459181e-05, 2.35570100e-04, 3.08225537e-03],\n",
       "       [3.10864090e-03, 3.21403472e-03, 2.68192329e-02, 6.56839833e-02,\n",
       "        1.16015067e-02, 1.56433247e-02, 1.53415371e-02],\n",
       "       [2.78529245e-03, 4.58245922e-04, 1.96757419e-08, 4.64745273e-04,\n",
       "        7.22194090e-05, 2.42817979e-08, 9.09232259e-01],\n",
       "       [6.24386230e-05, 2.61532068e-01, 2.61206785e-03, 5.67273617e-01,\n",
       "        1.45836221e-03, 9.18548554e-04, 9.93155763e-02],\n",
       "       [3.73687749e-06, 4.23394697e-04, 1.02692265e-02, 5.00193298e-01,\n",
       "        2.08324287e-02, 4.47132225e-05, 1.33362934e-01],\n",
       "       [1.31138414e-01, 3.45900131e-04, 4.16519288e-05, 2.17397958e-02,\n",
       "        1.98032631e-05, 1.75028236e-03, 5.56656625e-03],\n",
       "       [6.85338676e-03, 2.86814146e-04, 1.15087279e-03, 2.91315652e-03,\n",
       "        6.38126628e-03, 9.13771102e-04, 3.23614255e-02],\n",
       "       [3.68492794e-04, 5.04537066e-03, 1.63077526e-02, 7.99306110e-02,\n",
       "        1.23033405e-03, 2.19190493e-02, 1.70816062e-03],\n",
       "       [1.79718551e-03, 7.09190848e-04, 1.81286887e-03, 8.82680058e-01,\n",
       "        2.07482022e-03, 2.28462531e-03, 2.64244135e-02],\n",
       "       [2.92584263e-02, 1.96899381e-03, 2.18000310e-03, 1.92824394e-01,\n",
       "        1.88340787e-02, 4.86036530e-04, 5.29079258e-01],\n",
       "       [3.03323350e-06, 4.95079020e-03, 1.28920065e-05, 1.30746692e-01,\n",
       "        6.42199802e-06, 1.41330229e-05, 6.80878852e-03],\n",
       "       [9.99989510e-01, 3.25626559e-07, 2.21090133e-08, 8.91918990e-06,\n",
       "        1.14012657e-07, 7.42177526e-03, 3.13364464e-04],\n",
       "       [5.85429079e-05, 4.73029912e-02, 1.58012244e-05, 3.66338909e-01,\n",
       "        3.71745788e-04, 2.45832348e-06, 7.47223496e-01],\n",
       "       [1.00840425e-09, 7.45867190e-09, 2.81978503e-11, 1.00000000e+00,\n",
       "        1.91027313e-04, 2.50623907e-06, 1.62974666e-05],\n",
       "       [2.97799101e-08, 1.79395670e-06, 1.70290550e-05, 8.67823884e-03,\n",
       "        2.16702028e-05, 5.00423823e-07, 9.06625530e-04],\n",
       "       [1.33783445e-01, 9.21967402e-02, 3.89972259e-03, 2.36784533e-01,\n",
       "        8.14331044e-03, 9.66153760e-03, 3.32558900e-01],\n",
       "       [7.77738867e-04, 1.51687243e-03, 4.04307060e-03, 9.91272867e-01,\n",
       "        3.95155232e-03, 1.50831202e-02, 8.63814168e-03],\n",
       "       [7.55957793e-03, 1.80024356e-02, 3.23948450e-03, 9.24690664e-01,\n",
       "        1.10775661e-02, 3.61399949e-02, 2.77069751e-02],\n",
       "       [7.75619004e-17, 2.33359443e-10, 1.02581517e-14, 9.99968767e-01,\n",
       "        3.39196657e-11, 1.58084419e-16, 2.48397491e-03],\n",
       "       [9.29100452e-07, 4.92914440e-03, 8.75288151e-07, 9.31939781e-01,\n",
       "        2.23722513e-04, 2.68288436e-09, 9.91006255e-01],\n",
       "       [4.57019312e-03, 1.20895694e-03, 4.52709384e-04, 9.82431829e-01,\n",
       "        4.35816810e-06, 2.59987754e-03, 4.22769226e-03],\n",
       "       [5.44254999e-06, 4.64078458e-03, 8.38559299e-06, 9.91036475e-01,\n",
       "        3.09442385e-06, 1.43173759e-06, 1.66132048e-01],\n",
       "       [6.68715802e-05, 1.25670306e-06, 3.32144140e-07, 9.99762952e-01,\n",
       "        1.47332251e-03, 2.66040443e-04, 1.11146597e-03],\n",
       "       [1.80408521e-09, 2.18632834e-10, 2.32857765e-12, 1.00000000e+00,\n",
       "        3.05796675e-05, 2.89148915e-07, 1.47890296e-05],\n",
       "       [5.45815055e-06, 3.09876213e-03, 1.17099592e-08, 9.97528255e-01,\n",
       "        1.61120017e-09, 5.24757766e-08, 5.92521913e-02],\n",
       "       [4.41891607e-05, 3.38757224e-03, 6.51654147e-04, 4.92403239e-01,\n",
       "        8.15099571e-04, 6.78192446e-05, 9.96275321e-02],\n",
       "       [6.26488909e-05, 1.10981287e-02, 6.43967360e-06, 2.96063758e-02,\n",
       "        4.60805092e-03, 2.13145839e-07, 9.63482440e-01],\n",
       "       [1.40450319e-14, 7.68077824e-11, 1.07455256e-15, 1.00000000e+00,\n",
       "        2.98232385e-06, 6.14559792e-10, 1.89008210e-06],\n",
       "       [1.09574588e-14, 5.81003404e-15, 1.27162992e-15, 1.00000000e+00,\n",
       "        1.77285187e-17, 1.56952142e-11, 8.91454480e-11],\n",
       "       [2.41768081e-04, 5.24763818e-05, 1.58696594e-06, 9.81977105e-01,\n",
       "        1.47669006e-03, 3.95929674e-05, 4.46287617e-02],\n",
       "       [2.76008486e-05, 2.08447687e-03, 5.55007020e-04, 3.33779186e-01,\n",
       "        7.27927685e-03, 9.01149815e-06, 5.34471273e-01],\n",
       "       [6.96801806e-07, 5.20494632e-06, 3.15910036e-08, 9.99974608e-01,\n",
       "        3.99837212e-04, 2.41566704e-05, 1.14983763e-03],\n",
       "       [4.78784703e-02, 3.72570567e-02, 2.08148127e-03, 5.32039165e-01,\n",
       "        8.26587807e-03, 2.34463923e-02, 7.60617256e-02],\n",
       "       [1.92462435e-10, 1.71184418e-08, 1.87614120e-07, 9.99999762e-01,\n",
       "        3.99772304e-08, 2.70593521e-08, 2.03253730e-04],\n",
       "       [2.23216102e-05, 3.43489781e-04, 3.34524739e-05, 1.41064124e-02,\n",
       "        8.56424740e-05, 1.66465034e-05, 1.23125715e-02],\n",
       "       [1.71126998e-14, 9.00672159e-09, 1.11493433e-15, 9.99997139e-01,\n",
       "        1.89927334e-07, 1.16161356e-12, 4.34409507e-04],\n",
       "       [8.97955429e-03, 3.19754370e-02, 1.58866402e-02, 7.35132575e-01,\n",
       "        1.52968345e-02, 4.98937964e-02, 3.53609100e-02],\n",
       "       [4.91928775e-04, 2.64658849e-03, 4.85718437e-03, 9.16634858e-01,\n",
       "        1.63984601e-04, 3.29459109e-03, 8.36008042e-03],\n",
       "       [1.72690734e-01, 6.21448411e-03, 1.18434592e-03, 5.75600624e-01,\n",
       "        5.80114371e-04, 5.09427721e-03, 1.10823616e-01],\n",
       "       [1.89693528e-05, 5.98759907e-05, 1.20524070e-04, 9.92174387e-01,\n",
       "        3.51016992e-04, 5.62254741e-07, 6.81592107e-01],\n",
       "       [1.19616725e-02, 1.03274651e-07, 1.27768768e-10, 9.96539295e-01,\n",
       "        1.65361791e-06, 3.04248988e-05, 3.09547991e-04],\n",
       "       [9.96630967e-01, 1.66639307e-04, 1.59851497e-05, 1.55481172e-03,\n",
       "        4.37211529e-05, 1.05771497e-02, 1.91497542e-02],\n",
       "       [2.70320612e-07, 7.60466401e-06, 1.11436875e-05, 7.25683391e-01,\n",
       "        1.44361900e-06, 9.51757556e-07, 2.12901947e-03],\n",
       "       [1.55015278e-03, 2.60232831e-03, 2.74519238e-07, 2.04871476e-01,\n",
       "        3.90065992e-07, 5.89093224e-06, 3.93976420e-02],\n",
       "       [9.28504299e-03, 2.83989832e-02, 8.06407724e-03, 8.88526857e-01,\n",
       "        1.61873791e-02, 1.93625018e-02, 9.09154117e-02],\n",
       "       [2.88313517e-04, 3.91036412e-03, 3.46701381e-05, 9.27696466e-01,\n",
       "        3.37265228e-05, 1.38605346e-05, 2.47888491e-01],\n",
       "       [5.31151940e-08, 5.14087200e-01, 1.65527963e-05, 6.97463870e-01,\n",
       "        2.16703320e-05, 2.27731971e-06, 1.22539543e-01],\n",
       "       [6.90183835e-03, 2.42413431e-02, 3.70148127e-03, 3.42752188e-02,\n",
       "        8.79748142e-04, 2.54439376e-02, 6.15790114e-03],\n",
       "       [4.28408295e-01, 5.45099538e-05, 3.13475903e-05, 4.82477903e-01,\n",
       "        1.97623041e-04, 6.51476439e-03, 6.65817177e-03],\n",
       "       [2.69033480e-02, 1.25615834e-03, 4.75252420e-02, 8.19257081e-01,\n",
       "        1.30366487e-02, 1.12898961e-01, 9.35852621e-03],\n",
       "       [7.68211335e-02, 7.32014996e-07, 7.09592889e-04, 4.83404428e-01,\n",
       "        1.11526479e-05, 4.65157302e-03, 4.01296158e-04],\n",
       "       [1.93243338e-07, 8.63052385e-09, 7.41436452e-07, 9.99893785e-01,\n",
       "        3.29401737e-05, 3.24966010e-07, 2.50896136e-03],\n",
       "       [6.39766514e-01, 2.28882433e-04, 4.09158529e-05, 1.29651604e-03,\n",
       "        6.83348393e-04, 6.88228291e-04, 9.29891095e-02],\n",
       "       [1.15630066e-03, 1.66554879e-02, 3.25668657e-06, 6.54338539e-01,\n",
       "        5.61487745e-04, 3.17376471e-05, 3.74845773e-01],\n",
       "       [1.73244271e-02, 1.25780642e-01, 1.47120981e-03, 5.02160072e-01,\n",
       "        2.69108685e-03, 1.97163899e-03, 3.82305652e-01],\n",
       "       [1.13423320e-03, 1.49815269e-02, 3.96474078e-03, 9.29613471e-01,\n",
       "        9.26673040e-03, 8.13631690e-04, 3.40044111e-01],\n",
       "       [4.04220819e-02, 4.03312854e-02, 1.49099898e-04, 1.13326460e-02,\n",
       "        1.86201214e-04, 4.37605195e-03, 2.28065886e-02],\n",
       "       [2.37661585e-01, 1.75893674e-05, 1.40107423e-03, 4.17203039e-01,\n",
       "        2.24629825e-04, 4.39297734e-03, 1.06913559e-02],\n",
       "       [2.46571244e-06, 1.97849093e-09, 1.12261216e-03, 9.99907970e-01,\n",
       "        6.97314633e-08, 5.66784583e-05, 1.47939782e-05],\n",
       "       [9.82524216e-01, 1.14552068e-09, 2.63328559e-07, 2.57939655e-06,\n",
       "        5.76092305e-07, 3.96715244e-04, 4.52621280e-05],\n",
       "       [1.67247638e-01, 7.92661194e-06, 1.37506777e-05, 3.19722742e-02,\n",
       "        1.28117885e-04, 3.26883237e-05, 1.23621531e-01],\n",
       "       [1.77220732e-04, 3.25625110e-03, 1.61424577e-02, 9.04890180e-01,\n",
       "        1.18180655e-03, 2.58227158e-03, 1.98098496e-02],\n",
       "       [5.89657418e-07, 1.20768973e-09, 2.27752921e-07, 7.32042193e-01,\n",
       "        5.14263578e-04, 1.90531603e-06, 1.70729589e-04],\n",
       "       [6.14809608e-07, 3.48334970e-06, 2.53840130e-06, 4.42589720e-04,\n",
       "        2.78671305e-05, 3.82236948e-07, 2.87467078e-03],\n",
       "       [1.86197050e-02, 4.17256989e-02, 9.09515657e-03, 8.49994361e-01,\n",
       "        1.52266277e-02, 5.10430038e-02, 5.36368974e-02],\n",
       "       [9.75559950e-01, 2.75532244e-07, 2.67652522e-09, 3.07301525e-04,\n",
       "        4.55108375e-06, 5.34140672e-05, 4.33265045e-03],\n",
       "       [9.00337100e-01, 1.05193802e-04, 3.47775313e-05, 4.68921848e-03,\n",
       "        1.92622945e-04, 1.41674781e-03, 5.58208376e-02],\n",
       "       [1.43924728e-06, 1.45684287e-09, 6.30033412e-08, 9.99874592e-01,\n",
       "        1.31265285e-11, 1.00046833e-07, 1.88325921e-05],\n",
       "       [8.39480485e-09, 4.10479456e-02, 1.06879137e-08, 9.87259150e-01,\n",
       "        7.07009840e-10, 2.79889978e-08, 7.11834477e-03],\n",
       "       [5.32339394e-01, 6.81027072e-04, 1.20214090e-05, 3.85848917e-02,\n",
       "        2.01046772e-04, 1.09180539e-04, 4.10354137e-01],\n",
       "       [6.58208458e-03, 7.82290272e-07, 7.10487114e-10, 9.75623846e-01,\n",
       "        9.22870186e-06, 8.80037260e-06, 3.93030839e-03],\n",
       "       [1.28062267e-03, 1.51568535e-03, 4.72884916e-04, 9.55367506e-01,\n",
       "        1.15548531e-02, 8.13438557e-03, 1.38552561e-02],\n",
       "       [1.76444737e-05, 3.23529065e-07, 4.54169531e-05, 8.76906693e-01,\n",
       "        2.00047998e-05, 1.37775178e-05, 1.47445872e-03],\n",
       "       [5.87824388e-06, 3.67120054e-04, 2.29813413e-05, 9.97766137e-01,\n",
       "        2.62764603e-04, 6.44265092e-05, 1.37500642e-02],\n",
       "       [8.43946710e-02, 6.79259247e-05, 3.59459518e-04, 9.06875059e-02,\n",
       "        5.16050786e-04, 6.49225619e-03, 4.68024286e-03],\n",
       "       [2.28442803e-01, 9.17640794e-03, 1.09276583e-03, 9.12710875e-02,\n",
       "        1.57873356e-03, 6.98803365e-03, 1.03558980e-01],\n",
       "       [2.06948332e-02, 2.19257046e-02, 1.49251511e-02, 7.51518011e-01,\n",
       "        8.19257169e-04, 4.69212756e-02, 1.59985125e-02],\n",
       "       [1.03719449e-02, 6.97721392e-02, 3.47076930e-05, 1.04700938e-01,\n",
       "        6.57961427e-05, 4.10597684e-04, 1.03459649e-01],\n",
       "       [1.04064764e-02, 1.48147363e-02, 2.03161724e-02, 4.18603390e-01,\n",
       "        1.22324107e-02, 1.01251332e-02, 1.06280290e-01],\n",
       "       [4.03670274e-04, 5.43064922e-02, 1.00557171e-01, 5.21384738e-02,\n",
       "        6.53256401e-02, 2.55303010e-02, 2.83677932e-02],\n",
       "       [6.72616670e-03, 1.75951980e-02, 3.92514793e-03, 9.43108857e-01,\n",
       "        4.52239532e-03, 5.00067100e-02, 1.44154476e-02],\n",
       "       [1.63034027e-04, 1.21239619e-02, 4.07638378e-04, 9.62870002e-01,\n",
       "        1.47206054e-04, 1.52361917e-03, 1.16525320e-02],\n",
       "       [1.85874244e-03, 2.43463810e-03, 1.79620273e-03, 7.12892413e-01,\n",
       "        6.00206258e-05, 5.56220487e-03, 3.73675395e-03],\n",
       "       [3.00456708e-11, 3.04792769e-09, 1.13596231e-12, 1.00000000e+00,\n",
       "        4.78545298e-05, 6.16937939e-07, 3.51703261e-06],\n",
       "       [5.42734017e-11, 4.35331077e-10, 6.49080616e-13, 1.00000000e+00,\n",
       "        4.57835085e-05, 1.42339744e-07, 8.25441475e-06],\n",
       "       [1.10815357e-09, 9.46959830e-04, 8.74383465e-12, 1.12383952e-03,\n",
       "        2.12249418e-08, 1.73590211e-12, 5.12069643e-01],\n",
       "       [1.48788875e-03, 1.46533403e-05, 2.97710387e-04, 2.77320772e-01,\n",
       "        6.37008925e-04, 3.85753046e-05, 7.54124001e-02]], dtype=float32)"
      ]
     },
     "execution_count": 26,
     "metadata": {},
     "output_type": "execute_result"
    }
   ],
   "source": [
    "y_pred_binary"
   ]
  },
  {
   "cell_type": "code",
   "execution_count": 27,
   "metadata": {},
   "outputs": [
    {
     "name": "stderr",
     "output_type": "stream",
     "text": [
      "2023-05-25 00:46:44.631269: I tensorflow/core/common_runtime/pluggable_device/pluggable_device_factory.cc:306] Could not identify NUMA node of platform GPU ID 0, defaulting to 0. Your kernel may not have been built with NUMA support.\n",
      "2023-05-25 00:46:44.631324: I tensorflow/core/common_runtime/pluggable_device/pluggable_device_factory.cc:306] Could not identify NUMA node of platform GPU ID 1, defaulting to 0. Your kernel may not have been built with NUMA support.\n",
      "2023-05-25 00:46:44.631351: I tensorflow/core/common_runtime/pluggable_device/pluggable_device_factory.cc:272] Created TensorFlow device (/job:localhost/replica:0/task:0/device:GPU:0 with 51939 MB memory) -> physical PluggableDevice (device: 0, name: DML, pci bus id: <undefined>)\n",
      "2023-05-25 00:46:44.631368: I tensorflow/core/common_runtime/pluggable_device/pluggable_device_factory.cc:272] Created TensorFlow device (/job:localhost/replica:0/task:0/device:GPU:1 with 45099 MB memory) -> physical PluggableDevice (device: 1, name: DML, pci bus id: <undefined>)\n",
      "2023-05-25 00:46:44.634368: I tensorflow/core/common_runtime/pluggable_device/pluggable_device_factory.cc:306] Could not identify NUMA node of platform GPU ID 0, defaulting to 0. Your kernel may not have been built with NUMA support.\n",
      "2023-05-25 00:46:44.634424: I tensorflow/core/common_runtime/pluggable_device/pluggable_device_factory.cc:306] Could not identify NUMA node of platform GPU ID 1, defaulting to 0. Your kernel may not have been built with NUMA support.\n",
      "2023-05-25 00:46:44.634450: I tensorflow/core/common_runtime/pluggable_device/pluggable_device_factory.cc:272] Created TensorFlow device (/job:localhost/replica:0/task:0/device:GPU:0 with 51939 MB memory) -> physical PluggableDevice (device: 0, name: DML, pci bus id: <undefined>)\n",
      "2023-05-25 00:46:44.634468: I tensorflow/core/common_runtime/pluggable_device/pluggable_device_factory.cc:272] Created TensorFlow device (/job:localhost/replica:0/task:0/device:GPU:1 with 45099 MB memory) -> physical PluggableDevice (device: 1, name: DML, pci bus id: <undefined>)\n",
      "2023-05-25 00:46:44.792288: I tensorflow/core/common_runtime/pluggable_device/pluggable_device_factory.cc:306] Could not identify NUMA node of platform GPU ID 0, defaulting to 0. Your kernel may not have been built with NUMA support.\n",
      "2023-05-25 00:46:44.792343: I tensorflow/core/common_runtime/pluggable_device/pluggable_device_factory.cc:306] Could not identify NUMA node of platform GPU ID 1, defaulting to 0. Your kernel may not have been built with NUMA support.\n",
      "2023-05-25 00:46:44.792372: I tensorflow/core/common_runtime/pluggable_device/pluggable_device_factory.cc:272] Created TensorFlow device (/job:localhost/replica:0/task:0/device:GPU:0 with 51939 MB memory) -> physical PluggableDevice (device: 0, name: DML, pci bus id: <undefined>)\n",
      "2023-05-25 00:46:44.792389: I tensorflow/core/common_runtime/pluggable_device/pluggable_device_factory.cc:272] Created TensorFlow device (/job:localhost/replica:0/task:0/device:GPU:1 with 45099 MB memory) -> physical PluggableDevice (device: 1, name: DML, pci bus id: <undefined>)\n",
      "2023-05-25 00:46:45.210811: I tensorflow/core/common_runtime/pluggable_device/pluggable_device_factory.cc:306] Could not identify NUMA node of platform GPU ID 0, defaulting to 0. Your kernel may not have been built with NUMA support.\n",
      "2023-05-25 00:46:45.210859: I tensorflow/core/common_runtime/pluggable_device/pluggable_device_factory.cc:306] Could not identify NUMA node of platform GPU ID 1, defaulting to 0. Your kernel may not have been built with NUMA support.\n",
      "2023-05-25 00:46:45.210883: I tensorflow/core/common_runtime/pluggable_device/pluggable_device_factory.cc:272] Created TensorFlow device (/job:localhost/replica:0/task:0/device:GPU:0 with 51939 MB memory) -> physical PluggableDevice (device: 0, name: DML, pci bus id: <undefined>)\n",
      "2023-05-25 00:46:45.210898: I tensorflow/core/common_runtime/pluggable_device/pluggable_device_factory.cc:272] Created TensorFlow device (/job:localhost/replica:0/task:0/device:GPU:1 with 45099 MB memory) -> physical PluggableDevice (device: 1, name: DML, pci bus id: <undefined>)\n"
     ]
    }
   ],
   "source": [
    "binarized_labels = np.argmax(y_test, axis=1)\n",
    "binarized_predictions = np.argmax(y_pred_binary, axis=1)\n",
    "\n",
    "precisions = []\n",
    "recalls = []\n",
    "auc_values = []\n",
    "pr_auc_values=[]\n",
    "accuracy_values=[]\n",
    "\n",
    "\n",
    "num_categories = y_test.shape[1]\n",
    "for category in range(num_categories):\n",
    "    labels_category = (binarized_labels == category).astype(int)\n",
    "    predictions_category = (binarized_predictions == category).astype(int)\n",
    "    \n",
    "    precision = tf.keras.metrics.Precision(name='precision')(labels_category, predictions_category)\n",
    "    recall = tf.keras.metrics.Recall(name='recall')(labels_category, predictions_category)\n",
    "    auc = tf.keras.metrics.AUC(name='auc')(labels_category, y_pred_binary[:, category])\n",
    "    pr_auc=tf.keras.metrics.AUC(name='pr_auc', curve='PR')(binarized_labels, binarized_predictions)\n",
    "    accuracy=tf.keras.metrics.Accuracy(name='accuracy')(binarized_labels, binarized_predictions)\n",
    "    \n",
    "    precisions.append(precision.numpy())\n",
    "    recalls.append(recall.numpy())\n",
    "    auc_values.append(auc.numpy())\n",
    "    pr_auc_values.append(pr_auc.numpy())\n",
    "    accuracy_values.append(accuracy.numpy())"
   ]
  },
  {
   "attachments": {},
   "cell_type": "markdown",
   "metadata": {},
   "source": [
    "## baseline metrics for CNN"
   ]
  },
  {
   "cell_type": "code",
   "execution_count": 37,
   "metadata": {},
   "outputs": [
    {
     "name": "stdout",
     "output_type": "stream",
     "text": [
      "                Categoría  Precision    Recall       AUC    AUC_PR  Accuracy\n",
      "0                   CAFOs   0.571429  0.600000  0.811157  0.930387  0.673759\n",
      "1               Landfills   0.000000  0.000000  0.645588  0.930387  0.673759\n",
      "2                   Mines   0.000000  0.000000  0.585749  0.930387  0.673759\n",
      "3                Negative   0.830000  0.864583  0.845139  0.930387  0.673759\n",
      "4        ProcessingPlants   0.000000  0.000000  0.500912  0.930387  0.673759\n",
      "5  RefineriesAndTerminals   0.000000  0.000000  0.529393  0.930387  0.673759\n",
      "6             WWTreatment   0.000000  0.000000  0.767857  0.930387  0.673759\n"
     ]
    }
   ],
   "source": [
    "category_names = {v: k for k, v in class_indices.items()}\n",
    "\n",
    "metrics_df = pd.DataFrame({\n",
    "    'Categoría': [category_names[i] for i in range(num_categories)],\n",
    "    'Precision': precisions,\n",
    "    'Recall': recalls,\n",
    "    'AUC': auc_values,\n",
    "    'AUC_PR': pr_auc_values,\n",
    "    'Accuracy': accuracy_values\n",
    "})\n",
    "\n",
    "print(metrics_df)"
   ]
  },
  {
   "attachments": {},
   "cell_type": "markdown",
   "metadata": {},
   "source": [
    "## this model 3 is an attemp of 6 categories, still on working "
   ]
  },
  {
   "cell_type": "code",
   "execution_count": 32,
   "metadata": {},
   "outputs": [],
   "source": [
    "def build_model3():\n",
    "    inputs = layers.Input(shape=(720, 720, 3))\n",
    "    res= layers.Resizing(360,360, interpolation='bilinear',\n",
    "                         crop_to_aspect_ratio=False)(inputs)\n",
    "    cnn = layers.Conv2D(32, (3, 3), activation='relu')(res)\n",
    "    cnn2 = layers.MaxPooling2D((2, 2))(cnn)\n",
    "    cnn3 = layers.Conv2D(64, (3, 3), activation='relu')(cnn2)\n",
    "    cnn4 = layers.MaxPooling2D((2, 2))(cnn3)\n",
    "    \n",
    "    flatten = layers.Flatten()(cnn4)\n",
    "    dense1 = layers.Dense(16, activation='relu')(flatten)\n",
    "    out = layers.Dense(6, activation='sigmoid')(dense1)\n",
    "    \n",
    "    model = Model(inputs=inputs, outputs=out)\n",
    "    \n",
    "    model.compile(loss=\"binary_crossentropy\", optimizer=\"adam\", metrics=[\n",
    "        tf.keras.metrics.AUC(name='auc'),\n",
    "        tf.keras.metrics.AUC(name='pr_auc', curve='PR'),\n",
    "        tf.keras.metrics.Precision(name='precision'),\n",
    "        tf.keras.metrics.Recall(name='recall'),\n",
    "        'accuracy'\n",
    "    ])\n",
    "    return model"
   ]
  },
  {
   "cell_type": "code",
   "execution_count": 33,
   "metadata": {},
   "outputs": [
    {
     "name": "stdout",
     "output_type": "stream",
     "text": [
      "Model: \"model\"\n",
      "_________________________________________________________________\n",
      " Layer (type)                Output Shape              Param #   \n",
      "=================================================================\n",
      " input_1 (InputLayer)        [(None, 720, 720, 3)]     0         \n",
      "                                                                 \n",
      " resizing (Resizing)         (None, 360, 360, 3)       0         \n",
      "                                                                 \n",
      " conv2d (Conv2D)             (None, 358, 358, 32)      896       \n",
      "                                                                 \n",
      " max_pooling2d (MaxPooling2D  (None, 179, 179, 32)     0         \n",
      " )                                                               \n",
      "                                                                 \n",
      " conv2d_1 (Conv2D)           (None, 177, 177, 64)      18496     \n",
      "                                                                 \n",
      " max_pooling2d_1 (MaxPooling  (None, 88, 88, 64)       0         \n",
      " 2D)                                                             \n",
      "                                                                 \n",
      " flatten (Flatten)           (None, 495616)            0         \n",
      "                                                                 \n",
      " dense (Dense)               (None, 16)                7929872   \n",
      "                                                                 \n",
      " dense_1 (Dense)             (None, 6)                 102       \n",
      "                                                                 \n",
      "=================================================================\n",
      "Total params: 7,949,366\n",
      "Trainable params: 7,949,366\n",
      "Non-trainable params: 0\n",
      "_________________________________________________________________\n"
     ]
    },
    {
     "name": "stderr",
     "output_type": "stream",
     "text": [
      "/tmp/ipykernel_1147/3508403701.py:6: UserWarning: `Model.fit_generator` is deprecated and will be removed in a future version. Please use `Model.fit`, which supports generators.\n",
      "  history3 =model3.fit_generator(generator=train_generator,\n"
     ]
    },
    {
     "name": "stdout",
     "output_type": "stream",
     "text": [
      "Epoch 1/10\n"
     ]
    },
    {
     "name": "stderr",
     "output_type": "stream",
     "text": [
      "2023-05-25 01:01:57.156770: I tensorflow/core/grappler/optimizers/custom_graph_optimizer_registry.cc:114] Plugin optimizer for device_type GPU is enabled.\n",
      "2023-05-25 01:01:57.297311: I tensorflow/core/common_runtime/pluggable_device/pluggable_device_factory.cc:306] Could not identify NUMA node of platform GPU ID 0, defaulting to 0. Your kernel may not have been built with NUMA support.\n",
      "2023-05-25 01:01:57.297404: I tensorflow/core/common_runtime/pluggable_device/pluggable_device_factory.cc:306] Could not identify NUMA node of platform GPU ID 1, defaulting to 0. Your kernel may not have been built with NUMA support.\n",
      "2023-05-25 01:01:57.297482: I tensorflow/core/common_runtime/pluggable_device/pluggable_device_factory.cc:272] Created TensorFlow device (/job:localhost/replica:0/task:0/device:GPU:0 with 51939 MB memory) -> physical PluggableDevice (device: 0, name: DML, pci bus id: <undefined>)\n",
      "2023-05-25 01:01:57.297497: I tensorflow/core/common_runtime/pluggable_device/pluggable_device_factory.cc:272] Created TensorFlow device (/job:localhost/replica:0/task:0/device:GPU:1 with 45099 MB memory) -> physical PluggableDevice (device: 1, name: DML, pci bus id: <undefined>)\n",
      "2023-05-25 01:01:57.300363: I tensorflow/core/common_runtime/pluggable_device/pluggable_device_factory.cc:306] Could not identify NUMA node of platform GPU ID 0, defaulting to 0. Your kernel may not have been built with NUMA support.\n",
      "2023-05-25 01:01:57.300439: I tensorflow/core/common_runtime/pluggable_device/pluggable_device_factory.cc:306] Could not identify NUMA node of platform GPU ID 1, defaulting to 0. Your kernel may not have been built with NUMA support.\n",
      "2023-05-25 01:01:57.300462: I tensorflow/core/common_runtime/pluggable_device/pluggable_device_factory.cc:272] Created TensorFlow device (/job:localhost/replica:0/task:0/device:GPU:0 with 51939 MB memory) -> physical PluggableDevice (device: 0, name: DML, pci bus id: <undefined>)\n",
      "2023-05-25 01:01:57.300473: I tensorflow/core/common_runtime/pluggable_device/pluggable_device_factory.cc:272] Created TensorFlow device (/job:localhost/replica:0/task:0/device:GPU:1 with 45099 MB memory) -> physical PluggableDevice (device: 1, name: DML, pci bus id: <undefined>)\n",
      "2023-05-25 01:01:57.301306: I tensorflow/core/common_runtime/pluggable_device/pluggable_device_factory.cc:306] Could not identify NUMA node of platform GPU ID 0, defaulting to 0. Your kernel may not have been built with NUMA support.\n",
      "2023-05-25 01:01:57.301333: I tensorflow/core/common_runtime/pluggable_device/pluggable_device_factory.cc:306] Could not identify NUMA node of platform GPU ID 1, defaulting to 0. Your kernel may not have been built with NUMA support.\n",
      "2023-05-25 01:01:57.301351: I tensorflow/core/common_runtime/pluggable_device/pluggable_device_factory.cc:272] Created TensorFlow device (/job:localhost/replica:0/task:0/device:GPU:0 with 51939 MB memory) -> physical PluggableDevice (device: 0, name: DML, pci bus id: <undefined>)\n",
      "2023-05-25 01:01:57.301363: I tensorflow/core/common_runtime/pluggable_device/pluggable_device_factory.cc:272] Created TensorFlow device (/job:localhost/replica:0/task:0/device:GPU:1 with 45099 MB memory) -> physical PluggableDevice (device: 1, name: DML, pci bus id: <undefined>)\n",
      "2023-05-25 01:01:57.302264: I tensorflow/core/common_runtime/pluggable_device/pluggable_device_factory.cc:306] Could not identify NUMA node of platform GPU ID 0, defaulting to 0. Your kernel may not have been built with NUMA support.\n",
      "2023-05-25 01:01:57.302294: I tensorflow/core/common_runtime/pluggable_device/pluggable_device_factory.cc:306] Could not identify NUMA node of platform GPU ID 1, defaulting to 0. Your kernel may not have been built with NUMA support.\n",
      "2023-05-25 01:01:57.302309: I tensorflow/core/common_runtime/pluggable_device/pluggable_device_factory.cc:272] Created TensorFlow device (/job:localhost/replica:0/task:0/device:GPU:0 with 51939 MB memory) -> physical PluggableDevice (device: 0, name: DML, pci bus id: <undefined>)\n",
      "2023-05-25 01:01:57.302319: I tensorflow/core/common_runtime/pluggable_device/pluggable_device_factory.cc:272] Created TensorFlow device (/job:localhost/replica:0/task:0/device:GPU:1 with 45099 MB memory) -> physical PluggableDevice (device: 1, name: DML, pci bus id: <undefined>)\n",
      "2023-05-25 01:01:57.305717: I tensorflow/core/common_runtime/pluggable_device/pluggable_device_factory.cc:306] Could not identify NUMA node of platform GPU ID 0, defaulting to 0. Your kernel may not have been built with NUMA support.\n",
      "2023-05-25 01:01:57.305759: I tensorflow/core/common_runtime/pluggable_device/pluggable_device_factory.cc:306] Could not identify NUMA node of platform GPU ID 1, defaulting to 0. Your kernel may not have been built with NUMA support.\n",
      "2023-05-25 01:01:57.305775: I tensorflow/core/common_runtime/pluggable_device/pluggable_device_factory.cc:272] Created TensorFlow device (/job:localhost/replica:0/task:0/device:GPU:0 with 51939 MB memory) -> physical PluggableDevice (device: 0, name: DML, pci bus id: <undefined>)\n",
      "2023-05-25 01:01:57.305786: I tensorflow/core/common_runtime/pluggable_device/pluggable_device_factory.cc:272] Created TensorFlow device (/job:localhost/replica:0/task:0/device:GPU:1 with 45099 MB memory) -> physical PluggableDevice (device: 1, name: DML, pci bus id: <undefined>)\n",
      "2023-05-25 01:01:57.306692: I tensorflow/core/common_runtime/pluggable_device/pluggable_device_factory.cc:306] Could not identify NUMA node of platform GPU ID 0, defaulting to 0. Your kernel may not have been built with NUMA support.\n",
      "2023-05-25 01:01:57.306730: I tensorflow/core/common_runtime/pluggable_device/pluggable_device_factory.cc:306] Could not identify NUMA node of platform GPU ID 1, defaulting to 0. Your kernel may not have been built with NUMA support.\n",
      "2023-05-25 01:01:57.306748: I tensorflow/core/common_runtime/pluggable_device/pluggable_device_factory.cc:272] Created TensorFlow device (/job:localhost/replica:0/task:0/device:GPU:0 with 51939 MB memory) -> physical PluggableDevice (device: 0, name: DML, pci bus id: <undefined>)\n",
      "2023-05-25 01:01:57.306758: I tensorflow/core/common_runtime/pluggable_device/pluggable_device_factory.cc:272] Created TensorFlow device (/job:localhost/replica:0/task:0/device:GPU:1 with 45099 MB memory) -> physical PluggableDevice (device: 1, name: DML, pci bus id: <undefined>)\n",
      "2023-05-25 01:01:59.246851: W tensorflow/core/framework/op_kernel.cc:1780] OP_REQUIRES failed at segment_reduction_ops_impl.h:482 : INVALID_ARGUMENT: data.shape = [448] does not start with segment_ids.shape = [384]\n",
      "2023-05-25 01:01:59.246902: W tensorflow/c/logging.cc:37] OP_REQUIRES failed at /__w/1/s/tfdml/kernels/dml_segment_reduction_ops.cc:147 : data.shape = [448] does not start with segment_ids.shape = [384]\n",
      "2023-05-25 01:01:59.247591: W tensorflow/core/framework/op_kernel.cc:1780] OP_REQUIRES failed at segment_reduction_ops_impl.h:482 : INVALID_ARGUMENT: data.shape = [448] does not start with segment_ids.shape = [384]\n",
      "2023-05-25 01:01:59.247628: W tensorflow/c/logging.cc:37] OP_REQUIRES failed at /__w/1/s/tfdml/kernels/dml_segment_reduction_ops.cc:147 : data.shape = [448] does not start with segment_ids.shape = [384]\n"
     ]
    },
    {
     "ename": "InvalidArgumentError",
     "evalue": "Graph execution error:\n\nDetected at node 'binary_crossentropy/logistic_loss/mul' defined at (most recent call last):\n    File \"/root/.pyenv/versions/3.8.12/lib/python3.8/runpy.py\", line 194, in _run_module_as_main\n      return _run_code(code, main_globals, None,\n    File \"/root/.pyenv/versions/3.8.12/lib/python3.8/runpy.py\", line 87, in _run_code\n      exec(code, run_globals)\n    File \"/root/.pyenv/versions/3.8.12/envs/lewagon/lib/python3.8/site-packages/ipykernel_launcher.py\", line 17, in <module>\n      app.launch_new_instance()\n    File \"/root/.pyenv/versions/3.8.12/envs/lewagon/lib/python3.8/site-packages/traitlets/config/application.py\", line 982, in launch_instance\n      app.start()\n    File \"/root/.pyenv/versions/3.8.12/envs/lewagon/lib/python3.8/site-packages/ipykernel/kernelapp.py\", line 712, in start\n      self.io_loop.start()\n    File \"/root/.pyenv/versions/3.8.12/envs/lewagon/lib/python3.8/site-packages/tornado/platform/asyncio.py\", line 215, in start\n      self.asyncio_loop.run_forever()\n    File \"/root/.pyenv/versions/3.8.12/lib/python3.8/asyncio/base_events.py\", line 570, in run_forever\n      self._run_once()\n    File \"/root/.pyenv/versions/3.8.12/lib/python3.8/asyncio/base_events.py\", line 1859, in _run_once\n      handle._run()\n    File \"/root/.pyenv/versions/3.8.12/lib/python3.8/asyncio/events.py\", line 81, in _run\n      self._context.run(self._callback, *self._args)\n    File \"/root/.pyenv/versions/3.8.12/envs/lewagon/lib/python3.8/site-packages/ipykernel/kernelbase.py\", line 510, in dispatch_queue\n      await self.process_one()\n    File \"/root/.pyenv/versions/3.8.12/envs/lewagon/lib/python3.8/site-packages/ipykernel/kernelbase.py\", line 499, in process_one\n      await dispatch(*args)\n    File \"/root/.pyenv/versions/3.8.12/envs/lewagon/lib/python3.8/site-packages/ipykernel/kernelbase.py\", line 406, in dispatch_shell\n      await result\n    File \"/root/.pyenv/versions/3.8.12/envs/lewagon/lib/python3.8/site-packages/ipykernel/kernelbase.py\", line 730, in execute_request\n      reply_content = await reply_content\n    File \"/root/.pyenv/versions/3.8.12/envs/lewagon/lib/python3.8/site-packages/ipykernel/ipkernel.py\", line 383, in do_execute\n      res = shell.run_cell(\n    File \"/root/.pyenv/versions/3.8.12/envs/lewagon/lib/python3.8/site-packages/ipykernel/zmqshell.py\", line 528, in run_cell\n      return super().run_cell(*args, **kwargs)\n    File \"/root/.pyenv/versions/3.8.12/envs/lewagon/lib/python3.8/site-packages/IPython/core/interactiveshell.py\", line 2885, in run_cell\n      result = self._run_cell(\n    File \"/root/.pyenv/versions/3.8.12/envs/lewagon/lib/python3.8/site-packages/IPython/core/interactiveshell.py\", line 2940, in _run_cell\n      return runner(coro)\n    File \"/root/.pyenv/versions/3.8.12/envs/lewagon/lib/python3.8/site-packages/IPython/core/async_helpers.py\", line 129, in _pseudo_sync_runner\n      coro.send(None)\n    File \"/root/.pyenv/versions/3.8.12/envs/lewagon/lib/python3.8/site-packages/IPython/core/interactiveshell.py\", line 3139, in run_cell_async\n      has_raised = await self.run_ast_nodes(code_ast.body, cell_name,\n    File \"/root/.pyenv/versions/3.8.12/envs/lewagon/lib/python3.8/site-packages/IPython/core/interactiveshell.py\", line 3318, in run_ast_nodes\n      if await self.run_code(code, result, async_=asy):\n    File \"/root/.pyenv/versions/3.8.12/envs/lewagon/lib/python3.8/site-packages/IPython/core/interactiveshell.py\", line 3378, in run_code\n      exec(code_obj, self.user_global_ns, self.user_ns)\n    File \"/tmp/ipykernel_1147/3508403701.py\", line 6, in <module>\n      history3 =model3.fit_generator(generator=train_generator,\n    File \"/root/.pyenv/versions/3.8.12/envs/lewagon/lib/python3.8/site-packages/keras/engine/training.py\", line 2507, in fit_generator\n      return self.fit(\n    File \"/root/.pyenv/versions/3.8.12/envs/lewagon/lib/python3.8/site-packages/keras/utils/traceback_utils.py\", line 65, in error_handler\n      return fn(*args, **kwargs)\n    File \"/root/.pyenv/versions/3.8.12/envs/lewagon/lib/python3.8/site-packages/keras/engine/training.py\", line 1564, in fit\n      tmp_logs = self.train_function(iterator)\n    File \"/root/.pyenv/versions/3.8.12/envs/lewagon/lib/python3.8/site-packages/keras/engine/training.py\", line 1160, in train_function\n      return step_function(self, iterator)\n    File \"/root/.pyenv/versions/3.8.12/envs/lewagon/lib/python3.8/site-packages/keras/engine/training.py\", line 1146, in step_function\n      outputs = model.distribute_strategy.run(run_step, args=(data,))\n    File \"/root/.pyenv/versions/3.8.12/envs/lewagon/lib/python3.8/site-packages/keras/engine/training.py\", line 1135, in run_step\n      outputs = model.train_step(data)\n    File \"/root/.pyenv/versions/3.8.12/envs/lewagon/lib/python3.8/site-packages/keras/engine/training.py\", line 994, in train_step\n      loss = self.compute_loss(x, y, y_pred, sample_weight)\n    File \"/root/.pyenv/versions/3.8.12/envs/lewagon/lib/python3.8/site-packages/keras/engine/training.py\", line 1052, in compute_loss\n      return self.compiled_loss(\n    File \"/root/.pyenv/versions/3.8.12/envs/lewagon/lib/python3.8/site-packages/keras/engine/compile_utils.py\", line 265, in __call__\n      loss_value = loss_obj(y_t, y_p, sample_weight=sw)\n    File \"/root/.pyenv/versions/3.8.12/envs/lewagon/lib/python3.8/site-packages/keras/losses.py\", line 152, in __call__\n      losses = call_fn(y_true, y_pred)\n    File \"/root/.pyenv/versions/3.8.12/envs/lewagon/lib/python3.8/site-packages/keras/losses.py\", line 272, in call\n      return ag_fn(y_true, y_pred, **self._fn_kwargs)\n    File \"/root/.pyenv/versions/3.8.12/envs/lewagon/lib/python3.8/site-packages/keras/losses.py\", line 2162, in binary_crossentropy\n      backend.binary_crossentropy(y_true, y_pred, from_logits=from_logits),\n    File \"/root/.pyenv/versions/3.8.12/envs/lewagon/lib/python3.8/site-packages/keras/backend.py\", line 5677, in binary_crossentropy\n      return tf.nn.sigmoid_cross_entropy_with_logits(\nNode: 'binary_crossentropy/logistic_loss/mul'\nIncompatible shapes: [64,7] vs. [64,6]\n\t [[{{node binary_crossentropy/logistic_loss/mul}}]] [Op:__inference_train_function_5763]",
     "output_type": "error",
     "traceback": [
      "\u001b[0;31m---------------------------------------------------------------------------\u001b[0m",
      "\u001b[0;31mInvalidArgumentError\u001b[0m                      Traceback (most recent call last)",
      "\u001b[1;32m/root/code/dvictoria2/methane_source/baseline.ipynb Celda 45\u001b[0m in \u001b[0;36m6\n\u001b[1;32m      <a href='vscode-notebook-cell://wsl%2Bubuntu-22.04/root/code/dvictoria2/methane_source/baseline.ipynb#X66sdnNjb2RlLXJlbW90ZQ%3D%3D?line=3'>4</a>\u001b[0m epochs \u001b[39m=\u001b[39m \u001b[39m20\u001b[39m\n\u001b[1;32m      <a href='vscode-notebook-cell://wsl%2Bubuntu-22.04/root/code/dvictoria2/methane_source/baseline.ipynb#X66sdnNjb2RlLXJlbW90ZQ%3D%3D?line=4'>5</a>\u001b[0m \u001b[39m# fits the model on batches with real-time data augmentation:\u001b[39;00m\n\u001b[0;32m----> <a href='vscode-notebook-cell://wsl%2Bubuntu-22.04/root/code/dvictoria2/methane_source/baseline.ipynb#X66sdnNjb2RlLXJlbW90ZQ%3D%3D?line=5'>6</a>\u001b[0m history3 \u001b[39m=\u001b[39mmodel3\u001b[39m.\u001b[39;49mfit_generator(generator\u001b[39m=\u001b[39;49mtrain_generator,\n\u001b[1;32m      <a href='vscode-notebook-cell://wsl%2Bubuntu-22.04/root/code/dvictoria2/methane_source/baseline.ipynb#X66sdnNjb2RlLXJlbW90ZQ%3D%3D?line=6'>7</a>\u001b[0m                     steps_per_epoch\u001b[39m=\u001b[39;49mSTEP_SIZE_TRAIN,\n\u001b[1;32m      <a href='vscode-notebook-cell://wsl%2Bubuntu-22.04/root/code/dvictoria2/methane_source/baseline.ipynb#X66sdnNjb2RlLXJlbW90ZQ%3D%3D?line=7'>8</a>\u001b[0m                     validation_data\u001b[39m=\u001b[39;49mvalidation_generator,\n\u001b[1;32m      <a href='vscode-notebook-cell://wsl%2Bubuntu-22.04/root/code/dvictoria2/methane_source/baseline.ipynb#X66sdnNjb2RlLXJlbW90ZQ%3D%3D?line=8'>9</a>\u001b[0m                     validation_steps\u001b[39m=\u001b[39;49mSTEP_SIZE_VALID,\n\u001b[1;32m     <a href='vscode-notebook-cell://wsl%2Bubuntu-22.04/root/code/dvictoria2/methane_source/baseline.ipynb#X66sdnNjb2RlLXJlbW90ZQ%3D%3D?line=9'>10</a>\u001b[0m                     epochs\u001b[39m=\u001b[39;49m\u001b[39m10\u001b[39;49m, callbacks \u001b[39m=\u001b[39;49m cb)\n\u001b[1;32m     <a href='vscode-notebook-cell://wsl%2Bubuntu-22.04/root/code/dvictoria2/methane_source/baseline.ipynb#X66sdnNjb2RlLXJlbW90ZQ%3D%3D?line=11'>12</a>\u001b[0m loss3, auc3, pr_auc3, precision3, recall3, accuracy3 \u001b[39m=\u001b[39mmodel3\u001b[39m.\u001b[39mevaluate(test_generator, steps\u001b[39m=\u001b[39mSTEP_SIZE_TEST)\n",
      "File \u001b[0;32m~/.pyenv/versions/3.8.12/envs/lewagon/lib/python3.8/site-packages/keras/engine/training.py:2507\u001b[0m, in \u001b[0;36mModel.fit_generator\u001b[0;34m(self, generator, steps_per_epoch, epochs, verbose, callbacks, validation_data, validation_steps, validation_freq, class_weight, max_queue_size, workers, use_multiprocessing, shuffle, initial_epoch)\u001b[0m\n\u001b[1;32m   2495\u001b[0m \u001b[39m\"\"\"Fits the model on data yielded batch-by-batch by a Python generator.\u001b[39;00m\n\u001b[1;32m   2496\u001b[0m \n\u001b[1;32m   2497\u001b[0m \u001b[39mDEPRECATED:\u001b[39;00m\n\u001b[1;32m   2498\u001b[0m \u001b[39m  `Model.fit` now supports generators, so there is no longer any need to\u001b[39;00m\n\u001b[1;32m   2499\u001b[0m \u001b[39m  use this endpoint.\u001b[39;00m\n\u001b[1;32m   2500\u001b[0m \u001b[39m\"\"\"\u001b[39;00m\n\u001b[1;32m   2501\u001b[0m warnings\u001b[39m.\u001b[39mwarn(\n\u001b[1;32m   2502\u001b[0m     \u001b[39m\"\u001b[39m\u001b[39m`Model.fit_generator` is deprecated and \u001b[39m\u001b[39m\"\u001b[39m\n\u001b[1;32m   2503\u001b[0m     \u001b[39m\"\u001b[39m\u001b[39mwill be removed in a future version. \u001b[39m\u001b[39m\"\u001b[39m\n\u001b[1;32m   2504\u001b[0m     \u001b[39m\"\u001b[39m\u001b[39mPlease use `Model.fit`, which supports generators.\u001b[39m\u001b[39m\"\u001b[39m,\n\u001b[1;32m   2505\u001b[0m     stacklevel\u001b[39m=\u001b[39m\u001b[39m2\u001b[39m,\n\u001b[1;32m   2506\u001b[0m )\n\u001b[0;32m-> 2507\u001b[0m \u001b[39mreturn\u001b[39;00m \u001b[39mself\u001b[39;49m\u001b[39m.\u001b[39;49mfit(\n\u001b[1;32m   2508\u001b[0m     generator,\n\u001b[1;32m   2509\u001b[0m     steps_per_epoch\u001b[39m=\u001b[39;49msteps_per_epoch,\n\u001b[1;32m   2510\u001b[0m     epochs\u001b[39m=\u001b[39;49mepochs,\n\u001b[1;32m   2511\u001b[0m     verbose\u001b[39m=\u001b[39;49mverbose,\n\u001b[1;32m   2512\u001b[0m     callbacks\u001b[39m=\u001b[39;49mcallbacks,\n\u001b[1;32m   2513\u001b[0m     validation_data\u001b[39m=\u001b[39;49mvalidation_data,\n\u001b[1;32m   2514\u001b[0m     validation_steps\u001b[39m=\u001b[39;49mvalidation_steps,\n\u001b[1;32m   2515\u001b[0m     validation_freq\u001b[39m=\u001b[39;49mvalidation_freq,\n\u001b[1;32m   2516\u001b[0m     class_weight\u001b[39m=\u001b[39;49mclass_weight,\n\u001b[1;32m   2517\u001b[0m     max_queue_size\u001b[39m=\u001b[39;49mmax_queue_size,\n\u001b[1;32m   2518\u001b[0m     workers\u001b[39m=\u001b[39;49mworkers,\n\u001b[1;32m   2519\u001b[0m     use_multiprocessing\u001b[39m=\u001b[39;49muse_multiprocessing,\n\u001b[1;32m   2520\u001b[0m     shuffle\u001b[39m=\u001b[39;49mshuffle,\n\u001b[1;32m   2521\u001b[0m     initial_epoch\u001b[39m=\u001b[39;49minitial_epoch,\n\u001b[1;32m   2522\u001b[0m )\n",
      "File \u001b[0;32m~/.pyenv/versions/3.8.12/envs/lewagon/lib/python3.8/site-packages/keras/utils/traceback_utils.py:70\u001b[0m, in \u001b[0;36mfilter_traceback.<locals>.error_handler\u001b[0;34m(*args, **kwargs)\u001b[0m\n\u001b[1;32m     67\u001b[0m     filtered_tb \u001b[39m=\u001b[39m _process_traceback_frames(e\u001b[39m.\u001b[39m__traceback__)\n\u001b[1;32m     68\u001b[0m     \u001b[39m# To get the full stack trace, call:\u001b[39;00m\n\u001b[1;32m     69\u001b[0m     \u001b[39m# `tf.debugging.disable_traceback_filtering()`\u001b[39;00m\n\u001b[0;32m---> 70\u001b[0m     \u001b[39mraise\u001b[39;00m e\u001b[39m.\u001b[39mwith_traceback(filtered_tb) \u001b[39mfrom\u001b[39;00m \u001b[39mNone\u001b[39m\n\u001b[1;32m     71\u001b[0m \u001b[39mfinally\u001b[39;00m:\n\u001b[1;32m     72\u001b[0m     \u001b[39mdel\u001b[39;00m filtered_tb\n",
      "File \u001b[0;32m~/.pyenv/versions/3.8.12/envs/lewagon/lib/python3.8/site-packages/tensorflow/python/eager/execute.py:54\u001b[0m, in \u001b[0;36mquick_execute\u001b[0;34m(op_name, num_outputs, inputs, attrs, ctx, name)\u001b[0m\n\u001b[1;32m     52\u001b[0m \u001b[39mtry\u001b[39;00m:\n\u001b[1;32m     53\u001b[0m   ctx\u001b[39m.\u001b[39mensure_initialized()\n\u001b[0;32m---> 54\u001b[0m   tensors \u001b[39m=\u001b[39m pywrap_tfe\u001b[39m.\u001b[39mTFE_Py_Execute(ctx\u001b[39m.\u001b[39m_handle, device_name, op_name,\n\u001b[1;32m     55\u001b[0m                                       inputs, attrs, num_outputs)\n\u001b[1;32m     56\u001b[0m \u001b[39mexcept\u001b[39;00m core\u001b[39m.\u001b[39m_NotOkStatusException \u001b[39mas\u001b[39;00m e:\n\u001b[1;32m     57\u001b[0m   \u001b[39mif\u001b[39;00m name \u001b[39mis\u001b[39;00m \u001b[39mnot\u001b[39;00m \u001b[39mNone\u001b[39;00m:\n",
      "\u001b[0;31mInvalidArgumentError\u001b[0m: Graph execution error:\n\nDetected at node 'binary_crossentropy/logistic_loss/mul' defined at (most recent call last):\n    File \"/root/.pyenv/versions/3.8.12/lib/python3.8/runpy.py\", line 194, in _run_module_as_main\n      return _run_code(code, main_globals, None,\n    File \"/root/.pyenv/versions/3.8.12/lib/python3.8/runpy.py\", line 87, in _run_code\n      exec(code, run_globals)\n    File \"/root/.pyenv/versions/3.8.12/envs/lewagon/lib/python3.8/site-packages/ipykernel_launcher.py\", line 17, in <module>\n      app.launch_new_instance()\n    File \"/root/.pyenv/versions/3.8.12/envs/lewagon/lib/python3.8/site-packages/traitlets/config/application.py\", line 982, in launch_instance\n      app.start()\n    File \"/root/.pyenv/versions/3.8.12/envs/lewagon/lib/python3.8/site-packages/ipykernel/kernelapp.py\", line 712, in start\n      self.io_loop.start()\n    File \"/root/.pyenv/versions/3.8.12/envs/lewagon/lib/python3.8/site-packages/tornado/platform/asyncio.py\", line 215, in start\n      self.asyncio_loop.run_forever()\n    File \"/root/.pyenv/versions/3.8.12/lib/python3.8/asyncio/base_events.py\", line 570, in run_forever\n      self._run_once()\n    File \"/root/.pyenv/versions/3.8.12/lib/python3.8/asyncio/base_events.py\", line 1859, in _run_once\n      handle._run()\n    File \"/root/.pyenv/versions/3.8.12/lib/python3.8/asyncio/events.py\", line 81, in _run\n      self._context.run(self._callback, *self._args)\n    File \"/root/.pyenv/versions/3.8.12/envs/lewagon/lib/python3.8/site-packages/ipykernel/kernelbase.py\", line 510, in dispatch_queue\n      await self.process_one()\n    File \"/root/.pyenv/versions/3.8.12/envs/lewagon/lib/python3.8/site-packages/ipykernel/kernelbase.py\", line 499, in process_one\n      await dispatch(*args)\n    File \"/root/.pyenv/versions/3.8.12/envs/lewagon/lib/python3.8/site-packages/ipykernel/kernelbase.py\", line 406, in dispatch_shell\n      await result\n    File \"/root/.pyenv/versions/3.8.12/envs/lewagon/lib/python3.8/site-packages/ipykernel/kernelbase.py\", line 730, in execute_request\n      reply_content = await reply_content\n    File \"/root/.pyenv/versions/3.8.12/envs/lewagon/lib/python3.8/site-packages/ipykernel/ipkernel.py\", line 383, in do_execute\n      res = shell.run_cell(\n    File \"/root/.pyenv/versions/3.8.12/envs/lewagon/lib/python3.8/site-packages/ipykernel/zmqshell.py\", line 528, in run_cell\n      return super().run_cell(*args, **kwargs)\n    File \"/root/.pyenv/versions/3.8.12/envs/lewagon/lib/python3.8/site-packages/IPython/core/interactiveshell.py\", line 2885, in run_cell\n      result = self._run_cell(\n    File \"/root/.pyenv/versions/3.8.12/envs/lewagon/lib/python3.8/site-packages/IPython/core/interactiveshell.py\", line 2940, in _run_cell\n      return runner(coro)\n    File \"/root/.pyenv/versions/3.8.12/envs/lewagon/lib/python3.8/site-packages/IPython/core/async_helpers.py\", line 129, in _pseudo_sync_runner\n      coro.send(None)\n    File \"/root/.pyenv/versions/3.8.12/envs/lewagon/lib/python3.8/site-packages/IPython/core/interactiveshell.py\", line 3139, in run_cell_async\n      has_raised = await self.run_ast_nodes(code_ast.body, cell_name,\n    File \"/root/.pyenv/versions/3.8.12/envs/lewagon/lib/python3.8/site-packages/IPython/core/interactiveshell.py\", line 3318, in run_ast_nodes\n      if await self.run_code(code, result, async_=asy):\n    File \"/root/.pyenv/versions/3.8.12/envs/lewagon/lib/python3.8/site-packages/IPython/core/interactiveshell.py\", line 3378, in run_code\n      exec(code_obj, self.user_global_ns, self.user_ns)\n    File \"/tmp/ipykernel_1147/3508403701.py\", line 6, in <module>\n      history3 =model3.fit_generator(generator=train_generator,\n    File \"/root/.pyenv/versions/3.8.12/envs/lewagon/lib/python3.8/site-packages/keras/engine/training.py\", line 2507, in fit_generator\n      return self.fit(\n    File \"/root/.pyenv/versions/3.8.12/envs/lewagon/lib/python3.8/site-packages/keras/utils/traceback_utils.py\", line 65, in error_handler\n      return fn(*args, **kwargs)\n    File \"/root/.pyenv/versions/3.8.12/envs/lewagon/lib/python3.8/site-packages/keras/engine/training.py\", line 1564, in fit\n      tmp_logs = self.train_function(iterator)\n    File \"/root/.pyenv/versions/3.8.12/envs/lewagon/lib/python3.8/site-packages/keras/engine/training.py\", line 1160, in train_function\n      return step_function(self, iterator)\n    File \"/root/.pyenv/versions/3.8.12/envs/lewagon/lib/python3.8/site-packages/keras/engine/training.py\", line 1146, in step_function\n      outputs = model.distribute_strategy.run(run_step, args=(data,))\n    File \"/root/.pyenv/versions/3.8.12/envs/lewagon/lib/python3.8/site-packages/keras/engine/training.py\", line 1135, in run_step\n      outputs = model.train_step(data)\n    File \"/root/.pyenv/versions/3.8.12/envs/lewagon/lib/python3.8/site-packages/keras/engine/training.py\", line 994, in train_step\n      loss = self.compute_loss(x, y, y_pred, sample_weight)\n    File \"/root/.pyenv/versions/3.8.12/envs/lewagon/lib/python3.8/site-packages/keras/engine/training.py\", line 1052, in compute_loss\n      return self.compiled_loss(\n    File \"/root/.pyenv/versions/3.8.12/envs/lewagon/lib/python3.8/site-packages/keras/engine/compile_utils.py\", line 265, in __call__\n      loss_value = loss_obj(y_t, y_p, sample_weight=sw)\n    File \"/root/.pyenv/versions/3.8.12/envs/lewagon/lib/python3.8/site-packages/keras/losses.py\", line 152, in __call__\n      losses = call_fn(y_true, y_pred)\n    File \"/root/.pyenv/versions/3.8.12/envs/lewagon/lib/python3.8/site-packages/keras/losses.py\", line 272, in call\n      return ag_fn(y_true, y_pred, **self._fn_kwargs)\n    File \"/root/.pyenv/versions/3.8.12/envs/lewagon/lib/python3.8/site-packages/keras/losses.py\", line 2162, in binary_crossentropy\n      backend.binary_crossentropy(y_true, y_pred, from_logits=from_logits),\n    File \"/root/.pyenv/versions/3.8.12/envs/lewagon/lib/python3.8/site-packages/keras/backend.py\", line 5677, in binary_crossentropy\n      return tf.nn.sigmoid_cross_entropy_with_logits(\nNode: 'binary_crossentropy/logistic_loss/mul'\nIncompatible shapes: [64,7] vs. [64,6]\n\t [[{{node binary_crossentropy/logistic_loss/mul}}]] [Op:__inference_train_function_5763]"
     ]
    }
   ],
   "source": [
    "model3=build_model3()\n",
    "model3.summary()\n",
    "cb = [callbacks.EarlyStopping(patience=5), callbacks.ReduceLROnPlateau(patience=3),callbacks.ModelCheckpoint('methane_m2.hdf5', monitor='loss',verbose=1, save_best_only=True)]\n",
    "epochs = 20\n",
    "# fits the model on batches with real-time data augmentation:\n",
    "history3 =model3.fit_generator(generator=train_generator,\n",
    "                    steps_per_epoch=STEP_SIZE_TRAIN,\n",
    "                    validation_data=validation_generator,\n",
    "                    validation_steps=STEP_SIZE_VALID,\n",
    "                    epochs=10, callbacks = cb)\n",
    "\n",
    "loss3, auc3, pr_auc3, precision3, recall3, accuracy3 =model3.evaluate(test_generator, steps=STEP_SIZE_TEST)"
   ]
  }
 ],
 "metadata": {
  "kernelspec": {
   "display_name": "lewagon",
   "language": "python",
   "name": "python3"
  },
  "language_info": {
   "codemirror_mode": {
    "name": "ipython",
    "version": 3
   },
   "file_extension": ".py",
   "mimetype": "text/x-python",
   "name": "python",
   "nbconvert_exporter": "python",
   "pygments_lexer": "ipython3",
   "version": "3.8.12"
  },
  "orig_nbformat": 4
 },
 "nbformat": 4,
 "nbformat_minor": 2
}
