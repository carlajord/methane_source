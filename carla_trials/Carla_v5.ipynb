{
 "cells": [
  {
   "cell_type": "code",
   "execution_count": null,
   "id": "69cd5ad6",
   "metadata": {},
   "outputs": [],
   "source": [
    "import os, glob\n",
    "import pandas as pd\n",
    "import numpy as np\n",
    "import matplotlib.pyplot as plt\n",
    "import seaborn as sns\n",
    "\n",
    "import imageio\n",
    "import geopandas as gpd\n",
    "from IPython.display import Image, display\n",
    "import tensorflow as tf\n",
    "from tensorflow.keras import layers, callbacks, backend, Model\n",
    "from sklearn.model_selection import train_test_split\n",
    "from sklearn.preprocessing import MultiLabelBinarizer\n",
    "from keras.preprocessing import image\n",
    "from tensorflow.keras.optimizers import Adam\n",
    "from plot_keras_history import show_history, plot_history\n",
    "import matplotlib.pyplot as plt\n",
    "from keras.preprocessing import image"
   ]
  },
  {
   "cell_type": "code",
   "execution_count": null,
   "id": "a235b531",
   "metadata": {},
   "outputs": [],
   "source": [
    "df = pd.read_csv(\"F:\\\\CNOOC_testing\\\\Methane_dataset\\\\METHANE_PROJECT\\\\smallsize224_all.csv\")"
   ]
  },
  {
   "cell_type": "code",
   "execution_count": null,
   "id": "40202a0e",
   "metadata": {},
   "outputs": [],
   "source": [
    "df.shape"
   ]
  },
  {
   "cell_type": "code",
   "execution_count": null,
   "id": "dbc4db4b",
   "metadata": {},
   "outputs": [],
   "source": [
    "df.Type.value_counts()"
   ]
  },
  {
   "cell_type": "code",
   "execution_count": null,
   "id": "326f00fb",
   "metadata": {},
   "outputs": [],
   "source": [
    "df = df.dropna()"
   ]
  },
  {
   "cell_type": "code",
   "execution_count": null,
   "id": "82544f1d",
   "metadata": {},
   "outputs": [],
   "source": [
    "df.head(2)"
   ]
  },
  {
   "cell_type": "code",
   "execution_count": null,
   "id": "b8b37f13",
   "metadata": {},
   "outputs": [],
   "source": [
    "df.Type = df.Type.astype(str)"
   ]
  },
  {
   "cell_type": "code",
   "execution_count": null,
   "id": "5484b8b9",
   "metadata": {},
   "outputs": [],
   "source": [
    "df_train = df.loc[df['dataset'] == \"train\"]"
   ]
  },
  {
   "cell_type": "code",
   "execution_count": null,
   "id": "d927b3fd",
   "metadata": {},
   "outputs": [],
   "source": [
    "df_test = df.loc[df['dataset'] == \"test\"]"
   ]
  },
  {
   "cell_type": "code",
   "execution_count": null,
   "id": "56218121",
   "metadata": {},
   "outputs": [],
   "source": [
    "df_train.shape"
   ]
  },
  {
   "cell_type": "code",
   "execution_count": null,
   "id": "1ea63afd",
   "metadata": {},
   "outputs": [],
   "source": [
    "df_train = df_train[(df_train.Type == 'Negative') | (df_train.Type == 'CAFOs') | (df_train.Type == 'WWTreatment')\n",
    "           | (df_train.Type == 'Landfills') | (df_train.Type == 'RefineriesAndTerminals')\n",
    "           | (df_train.Type == 'ProcessingPlants') | (df_train.Type == 'Mines')]"
   ]
  },
  {
   "cell_type": "code",
   "execution_count": null,
   "id": "3442f18d",
   "metadata": {},
   "outputs": [],
   "source": [
    "df_test = df_test[(df_test.Type == 'Negative') | (df_test.Type == 'CAFOs') | (df_test.Type == 'WWTreatment')\n",
    "           | (df_test.Type == 'Landfills') | (df_test.Type == 'RefineriesAndTerminals')\n",
    "           | (df_test.Type == 'ProcessingPlants') | (df_test.Type == 'Mines')]"
   ]
  },
  {
   "cell_type": "code",
   "execution_count": null,
   "id": "1a0b4dce",
   "metadata": {},
   "outputs": [],
   "source": [
    "# shuffle the dataframes in place\n",
    "#df_train = df_train.sample(frac=1).reset_index(drop=True)\n",
    "#df_test = df_test.sample(frac=1).reset_index(drop=True)"
   ]
  },
  {
   "cell_type": "code",
   "execution_count": null,
   "id": "d2861ad4",
   "metadata": {},
   "outputs": [],
   "source": [
    "df_train.shape"
   ]
  },
  {
   "cell_type": "code",
   "execution_count": null,
   "id": "bfaabda8",
   "metadata": {},
   "outputs": [],
   "source": [
    "df_test.shape"
   ]
  },
  {
   "cell_type": "code",
   "execution_count": null,
   "id": "53155860",
   "metadata": {},
   "outputs": [],
   "source": [
    "df_train.Type.value_counts()"
   ]
  },
  {
   "cell_type": "code",
   "execution_count": null,
   "id": "9eda061d",
   "metadata": {},
   "outputs": [],
   "source": [
    "#def sampling_k_elements(group, k=1600):\n",
    "#    if len(group) < k:\n",
    "#        return group\n",
    "#    return group.sample(k)\n",
    "#balanced = df_train.groupby('Type').apply(sampling_k_elements).reset_index(drop=True)"
   ]
  },
  {
   "cell_type": "code",
   "execution_count": null,
   "id": "364a375c",
   "metadata": {},
   "outputs": [],
   "source": [
    "SEED = 42\n",
    "CATEGORIES = 6\n",
    "TRAIN_BATCH_SIZE = 32\n",
    "VAL_SPLIT = 0.2\n",
    "\n",
    "IMG_HEIGHT = 224\n",
    "IMG_WIDTH = 224\n",
    "IMG_CHANNEL = 3"
   ]
  },
  {
   "cell_type": "code",
   "execution_count": null,
   "id": "82b302ae",
   "metadata": {},
   "outputs": [],
   "source": [
    "val_data, train_data = np.split(df_train, [int(VAL_SPLIT*len(df_train))])"
   ]
  },
  {
   "cell_type": "code",
   "execution_count": null,
   "id": "bf175af7",
   "metadata": {},
   "outputs": [],
   "source": [
    "class MyDataFrameIterator(image.DataFrameIterator):\n",
    "    \n",
    "    def __getitem__(self, idx):\n",
    "        X_, y_ = super().__getitem__(idx)\n",
    "        y_ = np.delete(y_, self.class_indices['Negative'], axis=1)\n",
    "        return X_, y_\n",
    "    \n",
    "    def next(self):\n",
    "        X_, y_ = super().next()\n",
    "        y_ = np.delete(y_, self.class_indices['Negative'], axis=1)\n",
    "        return X_, y_\n",
    "    \n",
    "class MyImageDataGenerator(image.ImageDataGenerator):\n",
    "    \n",
    "    def flow_from_dataframe(self, df, directory, *args, **kwargs):\n",
    "        return MyDataFrameIterator(df, directory, *args, **kwargs)"
   ]
  },
  {
   "cell_type": "code",
   "execution_count": null,
   "id": "54e0f8cb",
   "metadata": {},
   "outputs": [],
   "source": [
    "datagen=MyImageDataGenerator(rescale=1./255,\n",
    "                             #validation_split = VAL_SPLIT, # do not use this one :)\n",
    "                             #rotation_range=20,\n",
    "                             #width_shift_range=0.2,\n",
    "                             #height_shift_range=0.2,\n",
    "                             #horizontal_flip=True\n",
    "                            )"
   ]
  },
  {
   "cell_type": "code",
   "execution_count": null,
   "id": "e6c76e65",
   "metadata": {},
   "outputs": [],
   "source": [
    "train_gen = datagen.flow_from_dataframe(\n",
    "    train_data,\n",
    "    \"\",\n",
    "    x_col=\"img_dir\",\n",
    "    y_col=\"Type\",\n",
    "    color_mode='rgb',\n",
    "    seed = SEED,\n",
    "    class_mode=\"categorical\",\n",
    "    validate_filenames=False,\n",
    "    target_size=(IMG_HEIGHT,IMG_WIDTH),\n",
    "    batch_size=TRAIN_BATCH_SIZE)"
   ]
  },
  {
   "cell_type": "code",
   "execution_count": null,
   "id": "661cb042",
   "metadata": {},
   "outputs": [],
   "source": [
    "val_gen = datagen.flow_from_dataframe(\n",
    "    val_data,\n",
    "    \"\",\n",
    "    x_col=\"img_dir\",\n",
    "    y_col=\"Type\",\n",
    "    color_mode='rgb',\n",
    "    seed = SEED,\n",
    "    class_mode=\"categorical\",\n",
    "    target_size=(IMG_HEIGHT,IMG_WIDTH),\n",
    "    validate_filenames=False,\n",
    "    batch_size=TRAIN_BATCH_SIZE)"
   ]
  },
  {
   "cell_type": "code",
   "execution_count": null,
   "id": "f3af9f7a",
   "metadata": {},
   "outputs": [],
   "source": [
    "TEST_BATCH_SIZE = 512\n",
    "\n",
    "test_gen = datagen.flow_from_dataframe(\n",
    "    df_test,\n",
    "    \"\",\n",
    "    x_col = \"img_dir\",\n",
    "    y_col = \"Type\",\n",
    "    color_mode = 'rgb',\n",
    "    seed = SEED,\n",
    "    class_mode = \"categorical\",\n",
    "    validate_filenames=False,\n",
    "    target_size=(IMG_HEIGHT,IMG_WIDTH),\n",
    "    batch_size=TEST_BATCH_SIZE)"
   ]
  },
  {
   "cell_type": "code",
   "execution_count": null,
   "id": "07605cbb",
   "metadata": {},
   "outputs": [],
   "source": [
    "assert train_gen.class_indices == test_gen.class_indices\n",
    "assert train_gen.class_indices == val_gen.class_indices"
   ]
  },
  {
   "cell_type": "code",
   "execution_count": null,
   "id": "dd788d4c",
   "metadata": {},
   "outputs": [],
   "source": [
    "STEP_SIZE_TRAIN = train_gen.n//train_gen.batch_size\n",
    "STEP_SIZE_VALID = val_gen.n//val_gen.batch_size"
   ]
  },
  {
   "cell_type": "code",
   "execution_count": null,
   "id": "136d3216",
   "metadata": {},
   "outputs": [],
   "source": [
    "def build_model():\n",
    "    \n",
    "    LR = 0.01 # learning rate parameter for Adam\n",
    "    \n",
    "    # build network\n",
    "    inp = layers.Input(shape=(224, 224, 3))\n",
    "    # densenet\n",
    "    dnet_core = tf.keras.applications.DenseNet121(include_top=False,\n",
    "                                                  weights='imagenet',\n",
    "                                                  pooling='max')\n",
    "    # freeze most layers, let only last block be trainable\n",
    "    for l in dnet_core.layers[:-7]:\n",
    "        l.trainable = False\n",
    "    x = dnet_core(inp)\n",
    "    x = layers.Dense(16, activation='relu')(x)\n",
    "    out = layers.Dense(CATEGORIES, activation='sigmoid')(x)\n",
    "    model = Model(inputs=inp, outputs=out)\n",
    "    \n",
    "    loss = tf.keras.losses.BinaryCrossentropy()\n",
    "    model.compile(loss=loss,\n",
    "                  optimizer=Adam(learning_rate=LR),\n",
    "                  metrics=[\n",
    "                      tf.keras.metrics.AUC(name='auc'),\n",
    "                      tf.keras.metrics.AUC(name='pr_auc', curve='PR'),\n",
    "                      tf.keras.metrics.Precision(name='precision'),\n",
    "                      tf.keras.metrics.Recall(name='recall'),\n",
    "                      'accuracy'\n",
    "                      ])\n",
    "    return model"
   ]
  },
  {
   "cell_type": "code",
   "execution_count": null,
   "id": "bd420e0a",
   "metadata": {},
   "outputs": [],
   "source": [
    "backend.clear_session()\n",
    "model = build_model()\n",
    "model.class_indices_ = train_gen.class_indices\n",
    "model.summary()"
   ]
  },
  {
   "cell_type": "code",
   "execution_count": null,
   "id": "25d8e63b",
   "metadata": {},
   "outputs": [],
   "source": [
    "# Remember to change the run number so that we do not overwrite the\n",
    "# saved model\n",
    "\n",
    "RUN_NUMBER = 0\n",
    "MODEL_NAME = f'model_v{RUN_NUMBER}.hdf5'\n",
    "\n",
    "cb = [callbacks.EarlyStopping(patience=8),\n",
    "      callbacks.ReduceLROnPlateau(patience=4),\n",
    "      callbacks.ModelCheckpoint(MODEL_NAME,\n",
    "                                monitor='loss',\n",
    "                                verbose=1,\n",
    "                                save_best_only=True)]\n",
    "\n",
    "# check the first epochs, if the metrics go to zero\n",
    "# restart the run with slightly different hyperparameter\n",
    "\n",
    "epochs = 20\n",
    "history = model.fit_generator(generator = train_gen,\n",
    "                              steps_per_epoch = STEP_SIZE_TRAIN,\n",
    "                              validation_data = val_gen,\n",
    "                              validation_steps = STEP_SIZE_VALID,\n",
    "                              epochs = epochs,\n",
    "                              callbacks = cb)"
   ]
  },
  {
   "cell_type": "code",
   "execution_count": null,
   "id": "1a232869",
   "metadata": {
    "scrolled": true
   },
   "outputs": [],
   "source": [
    "show_history(history)\n",
    "plot_history(history, path=\"standard.png\")\n",
    "plt.close()"
   ]
  },
  {
   "cell_type": "markdown",
   "id": "03cf8f6d",
   "metadata": {},
   "source": [
    "# Evaluate Model"
   ]
  },
  {
   "cell_type": "code",
   "execution_count": null,
   "id": "531ac866",
   "metadata": {},
   "outputs": [],
   "source": [
    "cat_names = list(test_gen.class_indices.keys())\n",
    "cat_names.remove('Negative')\n",
    "cat_names"
   ]
  },
  {
   "cell_type": "code",
   "execution_count": null,
   "id": "fbce90b7",
   "metadata": {},
   "outputs": [],
   "source": [
    "X_test, y_test = test_gen.next()\n",
    "y_pred_proba = model.predict(X_test)"
   ]
  },
  {
   "cell_type": "code",
   "execution_count": null,
   "id": "e41a1d1d",
   "metadata": {},
   "outputs": [],
   "source": [
    "# Use that if you want to save the arrays\n",
    "#np.save(f'y_pred_proba_{RUN_NUMBER}.npy', y_pred_proba)\n",
    "#np.save(f'y_test_{RUN_NUMBER}.npy', y_test)"
   ]
  },
  {
   "cell_type": "markdown",
   "id": "dd5cf82b",
   "metadata": {},
   "source": [
    "## Plot the distribution of a few predictions"
   ]
  },
  {
   "cell_type": "code",
   "execution_count": null,
   "id": "e5d86905",
   "metadata": {},
   "outputs": [],
   "source": [
    "plt.imshow(y_pred_proba[:20].T)\n",
    "plt.colorbar()\n",
    "plt.show()"
   ]
  },
  {
   "cell_type": "code",
   "execution_count": null,
   "id": "8d7a42d7",
   "metadata": {},
   "outputs": [],
   "source": [
    "plt.imshow(y_test[:20].T)\n",
    "plt.colorbar()\n",
    "plt.show()"
   ]
  },
  {
   "cell_type": "code",
   "execution_count": null,
   "id": "d603bb90",
   "metadata": {},
   "outputs": [],
   "source": [
    "# Plot a sample image from the test set\n",
    "abc = X_test[0,:,:,:].reshape(224, 224, 3).astype(np.uint8)\n",
    "plt.imshow(abc)\n",
    "plt.colorbar()\n",
    "plt.show()"
   ]
  },
  {
   "cell_type": "markdown",
   "id": "515fad53",
   "metadata": {},
   "source": [
    "## Evaluate metrics"
   ]
  },
  {
   "cell_type": "code",
   "execution_count": null,
   "id": "ec5dcd2a",
   "metadata": {},
   "outputs": [],
   "source": [
    "# Instantiate metrics\n",
    "precision = tf.keras.metrics.Precision()\n",
    "recall = tf.keras.metrics.Recall()\n",
    "auc = tf.keras.metrics.AUC()\n",
    "pr_auc = tf.keras.metrics.AUC(name='pr_auc', curve='PR')\n",
    "accuracy = tf.keras.metrics.Accuracy()"
   ]
  },
  {
   "cell_type": "code",
   "execution_count": null,
   "id": "d995f4f6",
   "metadata": {},
   "outputs": [],
   "source": [
    "# Binarize predictions\n",
    "y_pred = (y_pred_proba> 0.5).astype(int)"
   ]
  },
  {
   "cell_type": "code",
   "execution_count": null,
   "id": "ff6ca891",
   "metadata": {},
   "outputs": [],
   "source": [
    "prec_cat = {}\n",
    "recall_cat = {}\n",
    "auc_cat = {}\n",
    "pr_auc_cat = {}\n",
    "accuracy_cat = {}\n",
    "overall_cat = {}\n",
    "\n",
    "def calc_metric(y_test, y_pred, m_dict, m_fun, idx, name):\n",
    "    m_dict[name] = m_fun(y_test[:][:,idx].reshape(TEST_BATCH_SIZE,1), y_pred[:][:,idx].reshape(TEST_BATCH_SIZE,1)).numpy()\n",
    "\n",
    "dicts = [prec_cat, recall_cat, auc_cat, pr_auc_cat, accuracy_cat]\n",
    "funcs = [precision, recall, auc, pr_auc, accuracy]\n",
    "\n",
    "for idx, name in enumerate(cat_names):\n",
    "    for m_dict, m_fun in zip(dicts, funcs):\n",
    "        calc_metric(y_test, y_pred, m_dict, m_fun, idx, name)\n",
    "    overall_cat[name] = np.mean([d[name] for d in dicts])\n"
   ]
  },
  {
   "cell_type": "code",
   "execution_count": null,
   "id": "b6d46d62",
   "metadata": {},
   "outputs": [],
   "source": [
    "metrics_df = pd.DataFrame({\n",
    "    'Category': cat_names,\n",
    "    'Precision': list(prec_cat.values()),\n",
    "    'Recall': list(recall_cat.values()),\n",
    "    'AUC': list(auc_cat.values()),\n",
    "    'PR AUC': list(pr_auc_cat.values()),\n",
    "    'Accuracy': list(accuracy_cat.values()),\n",
    "    'Overall': list(overall_cat.values())\n",
    "})\n",
    "\n",
    "print(metrics_df)"
   ]
  },
  {
   "cell_type": "code",
   "execution_count": null,
   "id": "e3b7806f",
   "metadata": {},
   "outputs": [],
   "source": []
  }
 ],
 "metadata": {
  "kernelspec": {
   "display_name": "Python 3",
   "language": "python",
   "name": "python3"
  },
  "language_info": {
   "codemirror_mode": {
    "name": "ipython",
    "version": 3
   },
   "file_extension": ".py",
   "mimetype": "text/x-python",
   "name": "python",
   "nbconvert_exporter": "python",
   "pygments_lexer": "ipython3",
   "version": "3.6.8"
  }
 },
 "nbformat": 4,
 "nbformat_minor": 5
}
